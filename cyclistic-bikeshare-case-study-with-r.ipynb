{
 "cells": [
  {
   "cell_type": "markdown",
   "id": "6e831fce",
   "metadata": {
    "papermill": {
     "duration": 0.178307,
     "end_time": "2022-05-28T23:47:49.852557",
     "exception": false,
     "start_time": "2022-05-28T23:47:49.674250",
     "status": "completed"
    },
    "tags": []
   },
   "source": [
    "# INTRODUCTION\n",
    "This capstone project is the final project in my Google Data Analytics Professional Certificate course. In this case study I will be analyzing a public dataset for a fictional company provided by the course. I will be using R programming language for this analysis because of its easy statistical analysis tools and data visualizations.\n",
    "\n",
    "**The following data analysis steps will be followed:**\n",
    "* Ask,\n",
    "* Prepare,\n",
    "* Process,\n",
    "* Analyze,\n",
    "* Share,\n",
    "* Act.\n",
    "\n",
    "**The case study roadmap below will be followed on each step:**\n",
    "\n",
    "* Code, when needed.\n",
    "* Key tasks.\n",
    "* Deliverables.\n",
    "\n",
    "## Scenario\n",
    "You are a junior data analyst working in the marketing analyst team at Cyclistic, a bike-share company in Chicago. The director of marketing believes the company’s future success depends on maximizing the number of annual memberships. Therefore,your team wants to understand how casual riders and annual members use Cyclistic bikes differently. From these insights,your team will design a new marketing strategy to convert casual riders into annual members. But first, Cyclistic executives must approve your recommendations, so they must be backed up with compelling data insights and professional data visualizations.\n",
    "\n",
    "## ASK\n",
    "*  Three questions will guide the future marketing program:\n",
    " 1. How do annual members and casual riders use Cyclistic bikes differently?\n",
    " 2. Why would casual riders buy Cyclistic annual memberships?\n",
    " 3. How can Cyclistic use digital media to influence casual riders to become members?\n",
    "\n",
    "Lily Moreno (the director of marketing and my manager) has assigned you the first question to answer: How do annual members and casual riders use Cyclistic bikes differently?\n",
    "\n",
    "**Key tasks**\n",
    "1. Identify the business task\n",
    "* The main objective is to design marketing strategies aimed at converting casual riders to annual members by understanding how they differ.\n",
    "2. Consider key stakeholders\n",
    "* Director of Marketing (Lily Moreno), Marketing Analytics team, Executive team.\n",
    "\n",
    "**Deliverable**\n",
    "1. A clear statement of the business task\n",
    "* To find the differences between the casual riders and annual members.\n",
    "\n",
    "## PREPARE\n",
    "* I will use Cyclistic’s historical trip data to analyze and identify trends. The data has been made available by Motivate International Inc. under this [license](https://ride.divvybikes.com/data-license-agreement). Datasets are available here [link](https://divvy-tripdata.s3.amazonaws.com/index.html).\n",
    "\n",
    "**Key tasks**\n",
    "1. Download data and store it appropriately.\n",
    "* Data has been downloaded and copies have been stored securely on my computer and here on Kaggle.\n",
    "2. Identify how it’s organized.\n",
    "* The data is in CSV (comma-separated values) format, and there are a total of 13 columns.\n",
    "3. Sort and filter the data.\n",
    "* For this analysis, I will be using data for the last 12 months (Feb 2021 - Jan 2022) because it is more current.\n",
    "4. Determine the credibility of the data.\n",
    "* For the purpose of this case study, the datasets are appropriate and will enable me to answer the business questions. But data-privacy issues will prohibit me from using rider's personally identifiable information and this will prevent me from determining if riders have purchased multiple single passes. All ride ids are unique.\n",
    "\n",
    "**Deliverable**\n",
    "1.  A description of all data sources used\n",
    "* Main source of data provided by the [Cylistic company](https://divvy-tripdata.s3.amazonaws.com/index.html)."
   ]
  },
  {
   "cell_type": "markdown",
   "id": "08511abb",
   "metadata": {
    "papermill": {
     "duration": 0.176312,
     "end_time": "2022-05-28T23:47:50.208115",
     "exception": false,
     "start_time": "2022-05-28T23:47:50.031803",
     "status": "completed"
    },
    "tags": []
   },
   "source": [
    "### Install and load necessary packages"
   ]
  },
  {
   "cell_type": "code",
   "execution_count": 1,
   "id": "862783f1",
   "metadata": {
    "execution": {
     "iopub.execute_input": "2022-05-28T23:47:50.572785Z",
     "iopub.status.busy": "2022-05-28T23:47:50.572026Z",
     "iopub.status.idle": "2022-05-28T23:47:51.857042Z",
     "shell.execute_reply": "2022-05-28T23:47:51.855727Z"
    },
    "papermill": {
     "duration": 1.470445,
     "end_time": "2022-05-28T23:47:51.857231",
     "exception": false,
     "start_time": "2022-05-28T23:47:50.386786",
     "status": "completed"
    },
    "tags": []
   },
   "outputs": [
    {
     "name": "stderr",
     "output_type": "stream",
     "text": [
      "── \u001b[1mAttaching packages\u001b[22m ─────────────────────────────────────── tidyverse 1.3.1 ──\n",
      "\n",
      "\u001b[32m✔\u001b[39m \u001b[34mggplot2\u001b[39m 3.3.5     \u001b[32m✔\u001b[39m \u001b[34mpurrr  \u001b[39m 0.3.4\n",
      "\u001b[32m✔\u001b[39m \u001b[34mtibble \u001b[39m 3.1.5     \u001b[32m✔\u001b[39m \u001b[34mdplyr  \u001b[39m 1.0.7\n",
      "\u001b[32m✔\u001b[39m \u001b[34mtidyr  \u001b[39m 1.1.4     \u001b[32m✔\u001b[39m \u001b[34mstringr\u001b[39m 1.4.0\n",
      "\u001b[32m✔\u001b[39m \u001b[34mreadr  \u001b[39m 2.0.2     \u001b[32m✔\u001b[39m \u001b[34mforcats\u001b[39m 0.5.1\n",
      "\n",
      "── \u001b[1mConflicts\u001b[22m ────────────────────────────────────────── tidyverse_conflicts() ──\n",
      "\u001b[31m✖\u001b[39m \u001b[34mdplyr\u001b[39m::\u001b[32mfilter()\u001b[39m masks \u001b[34mstats\u001b[39m::filter()\n",
      "\u001b[31m✖\u001b[39m \u001b[34mdplyr\u001b[39m::\u001b[32mlag()\u001b[39m    masks \u001b[34mstats\u001b[39m::lag()\n",
      "\n"
     ]
    }
   ],
   "source": [
    "library(tidyverse)"
   ]
  },
  {
   "cell_type": "code",
   "execution_count": 2,
   "id": "b28be291",
   "metadata": {
    "execution": {
     "iopub.execute_input": "2022-05-28T23:47:52.263062Z",
     "iopub.status.busy": "2022-05-28T23:47:52.229781Z",
     "iopub.status.idle": "2022-05-28T23:47:52.294454Z",
     "shell.execute_reply": "2022-05-28T23:47:52.292638Z"
    },
    "papermill": {
     "duration": 0.250681,
     "end_time": "2022-05-28T23:47:52.294619",
     "exception": false,
     "start_time": "2022-05-28T23:47:52.043938",
     "status": "completed"
    },
    "tags": []
   },
   "outputs": [
    {
     "name": "stderr",
     "output_type": "stream",
     "text": [
      "\n",
      "Attaching package: ‘lubridate’\n",
      "\n",
      "\n",
      "The following objects are masked from ‘package:base’:\n",
      "\n",
      "    date, intersect, setdiff, union\n",
      "\n",
      "\n"
     ]
    }
   ],
   "source": [
    "library(lubridate)"
   ]
  },
  {
   "cell_type": "code",
   "execution_count": 3,
   "id": "f4a59704",
   "metadata": {
    "execution": {
     "iopub.execute_input": "2022-05-28T23:47:52.666695Z",
     "iopub.status.busy": "2022-05-28T23:47:52.664599Z",
     "iopub.status.idle": "2022-05-28T23:47:52.679639Z",
     "shell.execute_reply": "2022-05-28T23:47:52.678112Z"
    },
    "papermill": {
     "duration": 0.20132,
     "end_time": "2022-05-28T23:47:52.679797",
     "exception": false,
     "start_time": "2022-05-28T23:47:52.478477",
     "status": "completed"
    },
    "tags": []
   },
   "outputs": [],
   "source": [
    "library(ggplot2)"
   ]
  },
  {
   "cell_type": "code",
   "execution_count": 4,
   "id": "e85cf379",
   "metadata": {
    "execution": {
     "iopub.execute_input": "2022-05-28T23:47:53.054327Z",
     "iopub.status.busy": "2022-05-28T23:47:53.052078Z",
     "iopub.status.idle": "2022-05-28T23:47:53.067579Z",
     "shell.execute_reply": "2022-05-28T23:47:53.065401Z"
    },
    "papermill": {
     "duration": 0.204424,
     "end_time": "2022-05-28T23:47:53.067742",
     "exception": false,
     "start_time": "2022-05-28T23:47:52.863318",
     "status": "completed"
    },
    "tags": []
   },
   "outputs": [],
   "source": [
    "library(dplyr)"
   ]
  },
  {
   "cell_type": "markdown",
   "id": "a1a211cc",
   "metadata": {
    "papermill": {
     "duration": 0.184954,
     "end_time": "2022-05-28T23:47:53.437754",
     "exception": false,
     "start_time": "2022-05-28T23:47:53.252800",
     "status": "completed"
    },
    "tags": []
   },
   "source": [
    "### Import data to R studio"
   ]
  },
  {
   "cell_type": "code",
   "execution_count": 5,
   "id": "b93d0d00",
   "metadata": {
    "execution": {
     "iopub.execute_input": "2022-05-28T23:47:53.811026Z",
     "iopub.status.busy": "2022-05-28T23:47:53.809199Z",
     "iopub.status.idle": "2022-05-28T23:47:54.146313Z",
     "shell.execute_reply": "2022-05-28T23:47:54.144545Z"
    },
    "papermill": {
     "duration": 0.526066,
     "end_time": "2022-05-28T23:47:54.146476",
     "exception": false,
     "start_time": "2022-05-28T23:47:53.620410",
     "status": "completed"
    },
    "tags": []
   },
   "outputs": [
    {
     "name": "stderr",
     "output_type": "stream",
     "text": [
      "\u001b[1m\u001b[1mRows: \u001b[1m\u001b[22m\u001b[34m\u001b[34m49622\u001b[34m\u001b[39m \u001b[1m\u001b[1mColumns: \u001b[1m\u001b[22m\u001b[34m\u001b[34m13\u001b[34m\u001b[39m\n",
      "\n",
      "\u001b[36m──\u001b[39m \u001b[1m\u001b[1mColumn specification\u001b[1m\u001b[22m \u001b[36m────────────────────────────────────────────────────────\u001b[39m\n",
      "\u001b[1mDelimiter:\u001b[22m \",\"\n",
      "\u001b[31mchr\u001b[39m  (7): ride_id, rideable_type, start_station_name, start_station_id, end_...\n",
      "\u001b[32mdbl\u001b[39m  (4): start_lat, start_lng, end_lat, end_lng\n",
      "\u001b[34mdttm\u001b[39m (2): started_at, ended_at\n",
      "\n",
      "\n",
      "\u001b[36mℹ\u001b[39m Use \u001b[30m\u001b[47m\u001b[30m\u001b[47m`spec()`\u001b[47m\u001b[30m\u001b[49m\u001b[39m to retrieve the full column specification for this data.\n",
      "\u001b[36mℹ\u001b[39m Specify the column types or set \u001b[30m\u001b[47m\u001b[30m\u001b[47m`show_col_types = FALSE`\u001b[47m\u001b[30m\u001b[49m\u001b[39m to quiet this message.\n",
      "\n"
     ]
    }
   ],
   "source": [
    "feb21 <- read_csv(\"../input/cyclistic-bikeshare/202102-divvy-tripdata/202102-divvy-tripdata.csv\")"
   ]
  },
  {
   "cell_type": "code",
   "execution_count": 6,
   "id": "9850958e",
   "metadata": {
    "execution": {
     "iopub.execute_input": "2022-05-28T23:47:54.525889Z",
     "iopub.status.busy": "2022-05-28T23:47:54.523624Z",
     "iopub.status.idle": "2022-05-28T23:47:54.813309Z",
     "shell.execute_reply": "2022-05-28T23:47:54.810832Z"
    },
    "papermill": {
     "duration": 0.479761,
     "end_time": "2022-05-28T23:47:54.813494",
     "exception": false,
     "start_time": "2022-05-28T23:47:54.333733",
     "status": "completed"
    },
    "tags": []
   },
   "outputs": [
    {
     "name": "stderr",
     "output_type": "stream",
     "text": [
      "\u001b[1m\u001b[1mRows: \u001b[1m\u001b[22m\u001b[34m\u001b[34m228496\u001b[34m\u001b[39m \u001b[1m\u001b[1mColumns: \u001b[1m\u001b[22m\u001b[34m\u001b[34m13\u001b[34m\u001b[39m\n",
      "\n",
      "\u001b[36m──\u001b[39m \u001b[1m\u001b[1mColumn specification\u001b[1m\u001b[22m \u001b[36m────────────────────────────────────────────────────────\u001b[39m\n",
      "\u001b[1mDelimiter:\u001b[22m \",\"\n",
      "\u001b[31mchr\u001b[39m  (7): ride_id, rideable_type, start_station_name, start_station_id, end_...\n",
      "\u001b[32mdbl\u001b[39m  (4): start_lat, start_lng, end_lat, end_lng\n",
      "\u001b[34mdttm\u001b[39m (2): started_at, ended_at\n",
      "\n",
      "\n",
      "\u001b[36mℹ\u001b[39m Use \u001b[30m\u001b[47m\u001b[30m\u001b[47m`spec()`\u001b[47m\u001b[30m\u001b[49m\u001b[39m to retrieve the full column specification for this data.\n",
      "\u001b[36mℹ\u001b[39m Specify the column types or set \u001b[30m\u001b[47m\u001b[30m\u001b[47m`show_col_types = FALSE`\u001b[47m\u001b[30m\u001b[49m\u001b[39m to quiet this message.\n",
      "\n"
     ]
    }
   ],
   "source": [
    "mar21 <- read_csv(\"../input/cyclistic-bikeshare/202103-divvy-tripdata/202103-divvy-tripdata.csv\")"
   ]
  },
  {
   "cell_type": "code",
   "execution_count": 7,
   "id": "07cb30ad",
   "metadata": {
    "execution": {
     "iopub.execute_input": "2022-05-28T23:47:55.201270Z",
     "iopub.status.busy": "2022-05-28T23:47:55.199235Z",
     "iopub.status.idle": "2022-05-28T23:47:55.559167Z",
     "shell.execute_reply": "2022-05-28T23:47:55.558285Z"
    },
    "papermill": {
     "duration": 0.554992,
     "end_time": "2022-05-28T23:47:55.559325",
     "exception": false,
     "start_time": "2022-05-28T23:47:55.004333",
     "status": "completed"
    },
    "tags": []
   },
   "outputs": [
    {
     "name": "stderr",
     "output_type": "stream",
     "text": [
      "\u001b[1m\u001b[1mRows: \u001b[1m\u001b[22m\u001b[34m\u001b[34m337230\u001b[34m\u001b[39m \u001b[1m\u001b[1mColumns: \u001b[1m\u001b[22m\u001b[34m\u001b[34m13\u001b[34m\u001b[39m\n",
      "\n",
      "\u001b[36m──\u001b[39m \u001b[1m\u001b[1mColumn specification\u001b[1m\u001b[22m \u001b[36m────────────────────────────────────────────────────────\u001b[39m\n",
      "\u001b[1mDelimiter:\u001b[22m \",\"\n",
      "\u001b[31mchr\u001b[39m  (7): ride_id, rideable_type, start_station_name, start_station_id, end_...\n",
      "\u001b[32mdbl\u001b[39m  (4): start_lat, start_lng, end_lat, end_lng\n",
      "\u001b[34mdttm\u001b[39m (2): started_at, ended_at\n",
      "\n",
      "\n",
      "\u001b[36mℹ\u001b[39m Use \u001b[30m\u001b[47m\u001b[30m\u001b[47m`spec()`\u001b[47m\u001b[30m\u001b[49m\u001b[39m to retrieve the full column specification for this data.\n",
      "\u001b[36mℹ\u001b[39m Specify the column types or set \u001b[30m\u001b[47m\u001b[30m\u001b[47m`show_col_types = FALSE`\u001b[47m\u001b[30m\u001b[49m\u001b[39m to quiet this message.\n",
      "\n"
     ]
    }
   ],
   "source": [
    "apr21 <- read_csv(\"../input/cyclistic-bikeshare/202104-divvy-tripdata/202104-divvy-tripdata.csv\")"
   ]
  },
  {
   "cell_type": "code",
   "execution_count": 8,
   "id": "8a4df834",
   "metadata": {
    "execution": {
     "iopub.execute_input": "2022-05-28T23:47:55.976629Z",
     "iopub.status.busy": "2022-05-28T23:47:55.975000Z",
     "iopub.status.idle": "2022-05-28T23:47:56.415481Z",
     "shell.execute_reply": "2022-05-28T23:47:56.414053Z"
    },
    "papermill": {
     "duration": 0.659251,
     "end_time": "2022-05-28T23:47:56.415658",
     "exception": false,
     "start_time": "2022-05-28T23:47:55.756407",
     "status": "completed"
    },
    "tags": []
   },
   "outputs": [
    {
     "name": "stderr",
     "output_type": "stream",
     "text": [
      "\u001b[1m\u001b[1mRows: \u001b[1m\u001b[22m\u001b[34m\u001b[34m531633\u001b[34m\u001b[39m \u001b[1m\u001b[1mColumns: \u001b[1m\u001b[22m\u001b[34m\u001b[34m13\u001b[34m\u001b[39m\n",
      "\n",
      "\u001b[36m──\u001b[39m \u001b[1m\u001b[1mColumn specification\u001b[1m\u001b[22m \u001b[36m────────────────────────────────────────────────────────\u001b[39m\n",
      "\u001b[1mDelimiter:\u001b[22m \",\"\n",
      "\u001b[31mchr\u001b[39m  (7): ride_id, rideable_type, start_station_name, start_station_id, end_...\n",
      "\u001b[32mdbl\u001b[39m  (4): start_lat, start_lng, end_lat, end_lng\n",
      "\u001b[34mdttm\u001b[39m (2): started_at, ended_at\n",
      "\n",
      "\n",
      "\u001b[36mℹ\u001b[39m Use \u001b[30m\u001b[47m\u001b[30m\u001b[47m`spec()`\u001b[47m\u001b[30m\u001b[49m\u001b[39m to retrieve the full column specification for this data.\n",
      "\u001b[36mℹ\u001b[39m Specify the column types or set \u001b[30m\u001b[47m\u001b[30m\u001b[47m`show_col_types = FALSE`\u001b[47m\u001b[30m\u001b[49m\u001b[39m to quiet this message.\n",
      "\n"
     ]
    }
   ],
   "source": [
    "may21 <- read_csv(\"../input/cyclistic-bikeshare/202105-divvy-tripdata/202105-divvy-tripdata.csv\")"
   ]
  },
  {
   "cell_type": "code",
   "execution_count": 9,
   "id": "67bd8c36",
   "metadata": {
    "execution": {
     "iopub.execute_input": "2022-05-28T23:47:56.818711Z",
     "iopub.status.busy": "2022-05-28T23:47:56.817200Z",
     "iopub.status.idle": "2022-05-28T23:47:57.406877Z",
     "shell.execute_reply": "2022-05-28T23:47:57.405036Z"
    },
    "papermill": {
     "duration": 0.793496,
     "end_time": "2022-05-28T23:47:57.407043",
     "exception": false,
     "start_time": "2022-05-28T23:47:56.613547",
     "status": "completed"
    },
    "tags": []
   },
   "outputs": [
    {
     "name": "stderr",
     "output_type": "stream",
     "text": [
      "\u001b[1m\u001b[1mRows: \u001b[1m\u001b[22m\u001b[34m\u001b[34m729595\u001b[34m\u001b[39m \u001b[1m\u001b[1mColumns: \u001b[1m\u001b[22m\u001b[34m\u001b[34m13\u001b[34m\u001b[39m\n",
      "\n",
      "\u001b[36m──\u001b[39m \u001b[1m\u001b[1mColumn specification\u001b[1m\u001b[22m \u001b[36m────────────────────────────────────────────────────────\u001b[39m\n",
      "\u001b[1mDelimiter:\u001b[22m \",\"\n",
      "\u001b[31mchr\u001b[39m  (7): ride_id, rideable_type, start_station_name, start_station_id, end_...\n",
      "\u001b[32mdbl\u001b[39m  (4): start_lat, start_lng, end_lat, end_lng\n",
      "\u001b[34mdttm\u001b[39m (2): started_at, ended_at\n",
      "\n",
      "\n",
      "\u001b[36mℹ\u001b[39m Use \u001b[30m\u001b[47m\u001b[30m\u001b[47m`spec()`\u001b[47m\u001b[30m\u001b[49m\u001b[39m to retrieve the full column specification for this data.\n",
      "\u001b[36mℹ\u001b[39m Specify the column types or set \u001b[30m\u001b[47m\u001b[30m\u001b[47m`show_col_types = FALSE`\u001b[47m\u001b[30m\u001b[49m\u001b[39m to quiet this message.\n",
      "\n"
     ]
    }
   ],
   "source": [
    "jun21 <- read_csv(\"../input/cyclistic-bikeshare/202106-divvy-tripdata/202106-divvy-tripdata.csv\")"
   ]
  },
  {
   "cell_type": "code",
   "execution_count": 10,
   "id": "ff3f5d81",
   "metadata": {
    "execution": {
     "iopub.execute_input": "2022-05-28T23:47:57.836080Z",
     "iopub.status.busy": "2022-05-28T23:47:57.833991Z",
     "iopub.status.idle": "2022-05-28T23:47:58.473356Z",
     "shell.execute_reply": "2022-05-28T23:47:58.471909Z"
    },
    "papermill": {
     "duration": 0.867704,
     "end_time": "2022-05-28T23:47:58.473522",
     "exception": false,
     "start_time": "2022-05-28T23:47:57.605818",
     "status": "completed"
    },
    "tags": []
   },
   "outputs": [
    {
     "name": "stderr",
     "output_type": "stream",
     "text": [
      "\u001b[1m\u001b[1mRows: \u001b[1m\u001b[22m\u001b[34m\u001b[34m822410\u001b[34m\u001b[39m \u001b[1m\u001b[1mColumns: \u001b[1m\u001b[22m\u001b[34m\u001b[34m13\u001b[34m\u001b[39m\n",
      "\n",
      "\u001b[36m──\u001b[39m \u001b[1m\u001b[1mColumn specification\u001b[1m\u001b[22m \u001b[36m────────────────────────────────────────────────────────\u001b[39m\n",
      "\u001b[1mDelimiter:\u001b[22m \",\"\n",
      "\u001b[31mchr\u001b[39m  (7): ride_id, rideable_type, start_station_name, start_station_id, end_...\n",
      "\u001b[32mdbl\u001b[39m  (4): start_lat, start_lng, end_lat, end_lng\n",
      "\u001b[34mdttm\u001b[39m (2): started_at, ended_at\n",
      "\n",
      "\n",
      "\u001b[36mℹ\u001b[39m Use \u001b[30m\u001b[47m\u001b[30m\u001b[47m`spec()`\u001b[47m\u001b[30m\u001b[49m\u001b[39m to retrieve the full column specification for this data.\n",
      "\u001b[36mℹ\u001b[39m Specify the column types or set \u001b[30m\u001b[47m\u001b[30m\u001b[47m`show_col_types = FALSE`\u001b[47m\u001b[30m\u001b[49m\u001b[39m to quiet this message.\n",
      "\n"
     ]
    }
   ],
   "source": [
    "jul21 <- read_csv(\"../input/cyclistic-bikeshare/202107-divvy-tripdata/202107-divvy-tripdata.csv\")"
   ]
  },
  {
   "cell_type": "code",
   "execution_count": 11,
   "id": "6cc4a64c",
   "metadata": {
    "execution": {
     "iopub.execute_input": "2022-05-28T23:47:58.888339Z",
     "iopub.status.busy": "2022-05-28T23:47:58.886640Z",
     "iopub.status.idle": "2022-05-28T23:47:59.480213Z",
     "shell.execute_reply": "2022-05-28T23:47:59.478440Z"
    },
    "papermill": {
     "duration": 0.803371,
     "end_time": "2022-05-28T23:47:59.480366",
     "exception": false,
     "start_time": "2022-05-28T23:47:58.676995",
     "status": "completed"
    },
    "tags": []
   },
   "outputs": [
    {
     "name": "stderr",
     "output_type": "stream",
     "text": [
      "\u001b[1m\u001b[1mRows: \u001b[1m\u001b[22m\u001b[34m\u001b[34m804352\u001b[34m\u001b[39m \u001b[1m\u001b[1mColumns: \u001b[1m\u001b[22m\u001b[34m\u001b[34m13\u001b[34m\u001b[39m\n",
      "\n",
      "\u001b[36m──\u001b[39m \u001b[1m\u001b[1mColumn specification\u001b[1m\u001b[22m \u001b[36m────────────────────────────────────────────────────────\u001b[39m\n",
      "\u001b[1mDelimiter:\u001b[22m \",\"\n",
      "\u001b[31mchr\u001b[39m  (7): ride_id, rideable_type, start_station_name, start_station_id, end_...\n",
      "\u001b[32mdbl\u001b[39m  (4): start_lat, start_lng, end_lat, end_lng\n",
      "\u001b[34mdttm\u001b[39m (2): started_at, ended_at\n",
      "\n",
      "\n",
      "\u001b[36mℹ\u001b[39m Use \u001b[30m\u001b[47m\u001b[30m\u001b[47m`spec()`\u001b[47m\u001b[30m\u001b[49m\u001b[39m to retrieve the full column specification for this data.\n",
      "\u001b[36mℹ\u001b[39m Specify the column types or set \u001b[30m\u001b[47m\u001b[30m\u001b[47m`show_col_types = FALSE`\u001b[47m\u001b[30m\u001b[49m\u001b[39m to quiet this message.\n",
      "\n"
     ]
    }
   ],
   "source": [
    "aug21 <- read_csv(\"../input/cyclistic-bikeshare/202108-divvy-tripdata/202108-divvy-tripdata.csv\")"
   ]
  },
  {
   "cell_type": "code",
   "execution_count": 12,
   "id": "146db36d",
   "metadata": {
    "execution": {
     "iopub.execute_input": "2022-05-28T23:47:59.898170Z",
     "iopub.status.busy": "2022-05-28T23:47:59.896239Z",
     "iopub.status.idle": "2022-05-28T23:48:00.492048Z",
     "shell.execute_reply": "2022-05-28T23:48:00.490271Z"
    },
    "papermill": {
     "duration": 0.807386,
     "end_time": "2022-05-28T23:48:00.492243",
     "exception": false,
     "start_time": "2022-05-28T23:47:59.684857",
     "status": "completed"
    },
    "tags": []
   },
   "outputs": [
    {
     "name": "stderr",
     "output_type": "stream",
     "text": [
      "\u001b[1m\u001b[1mRows: \u001b[1m\u001b[22m\u001b[34m\u001b[34m756147\u001b[34m\u001b[39m \u001b[1m\u001b[1mColumns: \u001b[1m\u001b[22m\u001b[34m\u001b[34m13\u001b[34m\u001b[39m\n",
      "\n",
      "\u001b[36m──\u001b[39m \u001b[1m\u001b[1mColumn specification\u001b[1m\u001b[22m \u001b[36m────────────────────────────────────────────────────────\u001b[39m\n",
      "\u001b[1mDelimiter:\u001b[22m \",\"\n",
      "\u001b[31mchr\u001b[39m  (7): ride_id, rideable_type, start_station_name, start_station_id, end_...\n",
      "\u001b[32mdbl\u001b[39m  (4): start_lat, start_lng, end_lat, end_lng\n",
      "\u001b[34mdttm\u001b[39m (2): started_at, ended_at\n",
      "\n",
      "\n",
      "\u001b[36mℹ\u001b[39m Use \u001b[30m\u001b[47m\u001b[30m\u001b[47m`spec()`\u001b[47m\u001b[30m\u001b[49m\u001b[39m to retrieve the full column specification for this data.\n",
      "\u001b[36mℹ\u001b[39m Specify the column types or set \u001b[30m\u001b[47m\u001b[30m\u001b[47m`show_col_types = FALSE`\u001b[47m\u001b[30m\u001b[49m\u001b[39m to quiet this message.\n",
      "\n"
     ]
    }
   ],
   "source": [
    "sep21 <- read_csv(\"../input/cyclistic-bikeshare/202109-divvy-tripdata/202109-divvy-tripdata.csv\")"
   ]
  },
  {
   "cell_type": "code",
   "execution_count": 13,
   "id": "adec8eec",
   "metadata": {
    "execution": {
     "iopub.execute_input": "2022-05-28T23:48:00.913722Z",
     "iopub.status.busy": "2022-05-28T23:48:00.911524Z",
     "iopub.status.idle": "2022-05-28T23:48:01.453244Z",
     "shell.execute_reply": "2022-05-28T23:48:01.451310Z"
    },
    "papermill": {
     "duration": 0.753573,
     "end_time": "2022-05-28T23:48:01.453469",
     "exception": false,
     "start_time": "2022-05-28T23:48:00.699896",
     "status": "completed"
    },
    "tags": []
   },
   "outputs": [
    {
     "name": "stderr",
     "output_type": "stream",
     "text": [
      "\u001b[1m\u001b[1mRows: \u001b[1m\u001b[22m\u001b[34m\u001b[34m631226\u001b[34m\u001b[39m \u001b[1m\u001b[1mColumns: \u001b[1m\u001b[22m\u001b[34m\u001b[34m13\u001b[34m\u001b[39m\n",
      "\n",
      "\u001b[36m──\u001b[39m \u001b[1m\u001b[1mColumn specification\u001b[1m\u001b[22m \u001b[36m────────────────────────────────────────────────────────\u001b[39m\n",
      "\u001b[1mDelimiter:\u001b[22m \",\"\n",
      "\u001b[31mchr\u001b[39m  (7): ride_id, rideable_type, start_station_name, start_station_id, end_...\n",
      "\u001b[32mdbl\u001b[39m  (4): start_lat, start_lng, end_lat, end_lng\n",
      "\u001b[34mdttm\u001b[39m (2): started_at, ended_at\n",
      "\n",
      "\n",
      "\u001b[36mℹ\u001b[39m Use \u001b[30m\u001b[47m\u001b[30m\u001b[47m`spec()`\u001b[47m\u001b[30m\u001b[49m\u001b[39m to retrieve the full column specification for this data.\n",
      "\u001b[36mℹ\u001b[39m Specify the column types or set \u001b[30m\u001b[47m\u001b[30m\u001b[47m`show_col_types = FALSE`\u001b[47m\u001b[30m\u001b[49m\u001b[39m to quiet this message.\n",
      "\n"
     ]
    }
   ],
   "source": [
    "oct21 <- read_csv(\"../input/cyclistic-bikeshare/202110-divvy-tripdata/202110-divvy-tripdata.csv\")"
   ]
  },
  {
   "cell_type": "code",
   "execution_count": 14,
   "id": "8c869981",
   "metadata": {
    "execution": {
     "iopub.execute_input": "2022-05-28T23:48:01.905447Z",
     "iopub.status.busy": "2022-05-28T23:48:01.903213Z",
     "iopub.status.idle": "2022-05-28T23:48:02.252185Z",
     "shell.execute_reply": "2022-05-28T23:48:02.250902Z"
    },
    "papermill": {
     "duration": 0.585521,
     "end_time": "2022-05-28T23:48:02.252411",
     "exception": false,
     "start_time": "2022-05-28T23:48:01.666890",
     "status": "completed"
    },
    "tags": []
   },
   "outputs": [
    {
     "name": "stderr",
     "output_type": "stream",
     "text": [
      "\u001b[1m\u001b[1mRows: \u001b[1m\u001b[22m\u001b[34m\u001b[34m359978\u001b[34m\u001b[39m \u001b[1m\u001b[1mColumns: \u001b[1m\u001b[22m\u001b[34m\u001b[34m13\u001b[34m\u001b[39m\n",
      "\n",
      "\u001b[36m──\u001b[39m \u001b[1m\u001b[1mColumn specification\u001b[1m\u001b[22m \u001b[36m────────────────────────────────────────────────────────\u001b[39m\n",
      "\u001b[1mDelimiter:\u001b[22m \",\"\n",
      "\u001b[31mchr\u001b[39m  (7): ride_id, rideable_type, start_station_name, start_station_id, end_...\n",
      "\u001b[32mdbl\u001b[39m  (4): start_lat, start_lng, end_lat, end_lng\n",
      "\u001b[34mdttm\u001b[39m (2): started_at, ended_at\n",
      "\n",
      "\n",
      "\u001b[36mℹ\u001b[39m Use \u001b[30m\u001b[47m\u001b[30m\u001b[47m`spec()`\u001b[47m\u001b[30m\u001b[49m\u001b[39m to retrieve the full column specification for this data.\n",
      "\u001b[36mℹ\u001b[39m Specify the column types or set \u001b[30m\u001b[47m\u001b[30m\u001b[47m`show_col_types = FALSE`\u001b[47m\u001b[30m\u001b[49m\u001b[39m to quiet this message.\n",
      "\n"
     ]
    }
   ],
   "source": [
    "nov21 <- read_csv(\"../input/cyclistic-bikeshare/202111-divvy-tripdata/202111-divvy-tripdata.csv\")"
   ]
  },
  {
   "cell_type": "code",
   "execution_count": 15,
   "id": "14bde68c",
   "metadata": {
    "execution": {
     "iopub.execute_input": "2022-05-28T23:48:02.688969Z",
     "iopub.status.busy": "2022-05-28T23:48:02.687344Z",
     "iopub.status.idle": "2022-05-28T23:48:02.956742Z",
     "shell.execute_reply": "2022-05-28T23:48:02.956016Z"
    },
    "papermill": {
     "duration": 0.487573,
     "end_time": "2022-05-28T23:48:02.956890",
     "exception": false,
     "start_time": "2022-05-28T23:48:02.469317",
     "status": "completed"
    },
    "tags": []
   },
   "outputs": [
    {
     "name": "stderr",
     "output_type": "stream",
     "text": [
      "\u001b[1m\u001b[1mRows: \u001b[1m\u001b[22m\u001b[34m\u001b[34m247540\u001b[34m\u001b[39m \u001b[1m\u001b[1mColumns: \u001b[1m\u001b[22m\u001b[34m\u001b[34m13\u001b[34m\u001b[39m\n",
      "\n",
      "\u001b[36m──\u001b[39m \u001b[1m\u001b[1mColumn specification\u001b[1m\u001b[22m \u001b[36m────────────────────────────────────────────────────────\u001b[39m\n",
      "\u001b[1mDelimiter:\u001b[22m \",\"\n",
      "\u001b[31mchr\u001b[39m  (7): ride_id, rideable_type, start_station_name, start_station_id, end_...\n",
      "\u001b[32mdbl\u001b[39m  (4): start_lat, start_lng, end_lat, end_lng\n",
      "\u001b[34mdttm\u001b[39m (2): started_at, ended_at\n",
      "\n",
      "\n",
      "\u001b[36mℹ\u001b[39m Use \u001b[30m\u001b[47m\u001b[30m\u001b[47m`spec()`\u001b[47m\u001b[30m\u001b[49m\u001b[39m to retrieve the full column specification for this data.\n",
      "\u001b[36mℹ\u001b[39m Specify the column types or set \u001b[30m\u001b[47m\u001b[30m\u001b[47m`show_col_types = FALSE`\u001b[47m\u001b[30m\u001b[49m\u001b[39m to quiet this message.\n",
      "\n"
     ]
    }
   ],
   "source": [
    "dec21 <- read_csv(\"../input/cyclistic-bikeshare/202112-divvy-tripdata/202112-divvy-tripdata.csv\")"
   ]
  },
  {
   "cell_type": "code",
   "execution_count": 16,
   "id": "7d5bad4a",
   "metadata": {
    "execution": {
     "iopub.execute_input": "2022-05-28T23:48:03.402222Z",
     "iopub.status.busy": "2022-05-28T23:48:03.400075Z",
     "iopub.status.idle": "2022-05-28T23:48:03.562454Z",
     "shell.execute_reply": "2022-05-28T23:48:03.560594Z"
    },
    "papermill": {
     "duration": 0.385676,
     "end_time": "2022-05-28T23:48:03.562622",
     "exception": false,
     "start_time": "2022-05-28T23:48:03.176946",
     "status": "completed"
    },
    "tags": []
   },
   "outputs": [
    {
     "name": "stderr",
     "output_type": "stream",
     "text": [
      "\u001b[1m\u001b[1mRows: \u001b[1m\u001b[22m\u001b[34m\u001b[34m103770\u001b[34m\u001b[39m \u001b[1m\u001b[1mColumns: \u001b[1m\u001b[22m\u001b[34m\u001b[34m13\u001b[34m\u001b[39m\n",
      "\n",
      "\u001b[36m──\u001b[39m \u001b[1m\u001b[1mColumn specification\u001b[1m\u001b[22m \u001b[36m────────────────────────────────────────────────────────\u001b[39m\n",
      "\u001b[1mDelimiter:\u001b[22m \",\"\n",
      "\u001b[31mchr\u001b[39m  (7): ride_id, rideable_type, start_station_name, start_station_id, end_...\n",
      "\u001b[32mdbl\u001b[39m  (4): start_lat, start_lng, end_lat, end_lng\n",
      "\u001b[34mdttm\u001b[39m (2): started_at, ended_at\n",
      "\n",
      "\n",
      "\u001b[36mℹ\u001b[39m Use \u001b[30m\u001b[47m\u001b[30m\u001b[47m`spec()`\u001b[47m\u001b[30m\u001b[49m\u001b[39m to retrieve the full column specification for this data.\n",
      "\u001b[36mℹ\u001b[39m Specify the column types or set \u001b[30m\u001b[47m\u001b[30m\u001b[47m`show_col_types = FALSE`\u001b[47m\u001b[30m\u001b[49m\u001b[39m to quiet this message.\n",
      "\n"
     ]
    }
   ],
   "source": [
    "jan22 <- read_csv(\"../input/cyclistic-bikeshare/202201-divvy-tripdata/202201-divvy-tripdata.csv\")"
   ]
  },
  {
   "cell_type": "markdown",
   "id": "720bf706",
   "metadata": {
    "papermill": {
     "duration": 0.236713,
     "end_time": "2022-05-28T23:48:04.021013",
     "exception": false,
     "start_time": "2022-05-28T23:48:03.784300",
     "status": "completed"
    },
    "tags": []
   },
   "source": [
    "*I ensured that the data sets have the same number of columns and same column names before going forward to merge them, I also checked for inconsistencies.*\n"
   ]
  },
  {
   "cell_type": "markdown",
   "id": "57708b0a",
   "metadata": {
    "papermill": {
     "duration": 0.220887,
     "end_time": "2022-05-28T23:48:04.463512",
     "exception": false,
     "start_time": "2022-05-28T23:48:04.242625",
     "status": "completed"
    },
    "tags": []
   },
   "source": [
    "### Merge monthly data frames into a large data frame"
   ]
  },
  {
   "cell_type": "code",
   "execution_count": 17,
   "id": "ec4249c1",
   "metadata": {
    "execution": {
     "iopub.execute_input": "2022-05-28T23:48:04.911493Z",
     "iopub.status.busy": "2022-05-28T23:48:04.909438Z",
     "iopub.status.idle": "2022-05-28T23:48:29.409889Z",
     "shell.execute_reply": "2022-05-28T23:48:29.408048Z"
    },
    "papermill": {
     "duration": 24.72744,
     "end_time": "2022-05-28T23:48:29.410157",
     "exception": false,
     "start_time": "2022-05-28T23:48:04.682717",
     "status": "completed"
    },
    "tags": []
   },
   "outputs": [],
   "source": [
    "trip_data <- bind_rows(feb21, mar21, apr21, may21, jun21, jul21, aug21, sep21, oct21, nov21, dec21, jan22)"
   ]
  },
  {
   "cell_type": "markdown",
   "id": "7e21bf77",
   "metadata": {
    "papermill": {
     "duration": 0.219041,
     "end_time": "2022-05-28T23:48:29.848688",
     "exception": false,
     "start_time": "2022-05-28T23:48:29.629647",
     "status": "completed"
    },
    "tags": []
   },
   "source": [
    "## PROCESS\n",
    "Cleaning and preparing data for analysis\n",
    "\n",
    "**Key tasks**\n",
    "1. Check the data for errors.\n",
    "2. Choose your tools.\n",
    "3. Transform the data so you can work with it effectively.\n",
    "4. Document the cleaning process.\n",
    "\n",
    "**Deliverable**\n",
    "1. Documentation of any cleaning or manipulation of data\n",
    "\n",
    "Following code chunks will be used for this phase."
   ]
  },
  {
   "cell_type": "code",
   "execution_count": 18,
   "id": "b8205209",
   "metadata": {
    "execution": {
     "iopub.execute_input": "2022-05-28T23:48:30.294521Z",
     "iopub.status.busy": "2022-05-28T23:48:30.292368Z",
     "iopub.status.idle": "2022-05-28T23:48:30.332642Z",
     "shell.execute_reply": "2022-05-28T23:48:30.331935Z"
    },
    "papermill": {
     "duration": 0.264287,
     "end_time": "2022-05-28T23:48:30.332782",
     "exception": false,
     "start_time": "2022-05-28T23:48:30.068495",
     "status": "completed"
    },
    "tags": []
   },
   "outputs": [
    {
     "data": {
      "text/html": [
       "<table class=\"dataframe\">\n",
       "<caption>A tibble: 6 × 13</caption>\n",
       "<thead>\n",
       "\t<tr><th scope=col>ride_id</th><th scope=col>rideable_type</th><th scope=col>started_at</th><th scope=col>ended_at</th><th scope=col>start_station_name</th><th scope=col>start_station_id</th><th scope=col>end_station_name</th><th scope=col>end_station_id</th><th scope=col>start_lat</th><th scope=col>start_lng</th><th scope=col>end_lat</th><th scope=col>end_lng</th><th scope=col>member_casual</th></tr>\n",
       "\t<tr><th scope=col>&lt;chr&gt;</th><th scope=col>&lt;chr&gt;</th><th scope=col>&lt;dttm&gt;</th><th scope=col>&lt;dttm&gt;</th><th scope=col>&lt;chr&gt;</th><th scope=col>&lt;chr&gt;</th><th scope=col>&lt;chr&gt;</th><th scope=col>&lt;chr&gt;</th><th scope=col>&lt;dbl&gt;</th><th scope=col>&lt;dbl&gt;</th><th scope=col>&lt;dbl&gt;</th><th scope=col>&lt;dbl&gt;</th><th scope=col>&lt;chr&gt;</th></tr>\n",
       "</thead>\n",
       "<tbody>\n",
       "\t<tr><td>89E7AA6C29227EFF</td><td>classic_bike </td><td>2021-02-12 16:14:56</td><td>2021-02-12 16:21:43</td><td><span style=white-space:pre-wrap>Glenwood Ave &amp; Touhy Ave  </span></td><td><span style=white-space:pre-wrap>525         </span></td><td>Sheridan Rd &amp; Columbia Ave</td><td><span style=white-space:pre-wrap>660         </span></td><td>42.01270</td><td>-87.66606</td><td>42.00458</td><td>-87.66141</td><td>member</td></tr>\n",
       "\t<tr><td>0FEFDE2603568365</td><td>classic_bike </td><td>2021-02-14 17:52:38</td><td>2021-02-14 18:12:09</td><td><span style=white-space:pre-wrap>Glenwood Ave &amp; Touhy Ave  </span></td><td><span style=white-space:pre-wrap>525         </span></td><td><span style=white-space:pre-wrap>Bosworth Ave &amp; Howard St  </span></td><td><span style=white-space:pre-wrap>16806       </span></td><td>42.01270</td><td>-87.66606</td><td>42.01954</td><td>-87.66956</td><td>casual</td></tr>\n",
       "\t<tr><td>E6159D746B2DBB91</td><td>electric_bike</td><td>2021-02-09 19:10:18</td><td>2021-02-09 19:19:10</td><td><span style=white-space:pre-wrap>Clark St &amp; Lake St        </span></td><td>KA1503000012</td><td><span style=white-space:pre-wrap>State St &amp; Randolph St    </span></td><td>TA1305000029</td><td>41.88579</td><td>-87.63110</td><td>41.88487</td><td>-87.62750</td><td>member</td></tr>\n",
       "\t<tr><td>B32D3199F1C2E75B</td><td>classic_bike </td><td>2021-02-02 17:49:41</td><td>2021-02-02 17:54:06</td><td><span style=white-space:pre-wrap>Wood St &amp; Chicago Ave     </span></td><td><span style=white-space:pre-wrap>637         </span></td><td><span style=white-space:pre-wrap>Honore St &amp; Division St   </span></td><td>TA1305000034</td><td>41.89563</td><td>-87.67207</td><td>41.90312</td><td>-87.67394</td><td>member</td></tr>\n",
       "\t<tr><td>83E463F23575F4BF</td><td>electric_bike</td><td>2021-02-23 15:07:23</td><td>2021-02-23 15:22:37</td><td><span style=white-space:pre-wrap>State St &amp; 33rd St        </span></td><td><span style=white-space:pre-wrap>13216       </span></td><td><span style=white-space:pre-wrap>Emerald Ave &amp; 31st St     </span></td><td>TA1309000055</td><td>41.83473</td><td>-87.62583</td><td>41.83816</td><td>-87.64512</td><td>member</td></tr>\n",
       "\t<tr><td>BDAA7E3494E8D545</td><td>electric_bike</td><td>2021-02-24 15:43:33</td><td>2021-02-24 15:49:05</td><td>Fairbanks St &amp; Superior St</td><td><span style=white-space:pre-wrap>18003       </span></td><td><span style=white-space:pre-wrap>LaSalle Dr &amp; Huron St     </span></td><td>KP1705001026</td><td>41.89581</td><td>-87.62025</td><td>41.89489</td><td>-87.63198</td><td>casual</td></tr>\n",
       "</tbody>\n",
       "</table>\n"
      ],
      "text/latex": [
       "A tibble: 6 × 13\n",
       "\\begin{tabular}{lllllllllllll}\n",
       " ride\\_id & rideable\\_type & started\\_at & ended\\_at & start\\_station\\_name & start\\_station\\_id & end\\_station\\_name & end\\_station\\_id & start\\_lat & start\\_lng & end\\_lat & end\\_lng & member\\_casual\\\\\n",
       " <chr> & <chr> & <dttm> & <dttm> & <chr> & <chr> & <chr> & <chr> & <dbl> & <dbl> & <dbl> & <dbl> & <chr>\\\\\n",
       "\\hline\n",
       "\t 89E7AA6C29227EFF & classic\\_bike  & 2021-02-12 16:14:56 & 2021-02-12 16:21:43 & Glenwood Ave \\& Touhy Ave   & 525          & Sheridan Rd \\& Columbia Ave & 660          & 42.01270 & -87.66606 & 42.00458 & -87.66141 & member\\\\\n",
       "\t 0FEFDE2603568365 & classic\\_bike  & 2021-02-14 17:52:38 & 2021-02-14 18:12:09 & Glenwood Ave \\& Touhy Ave   & 525          & Bosworth Ave \\& Howard St   & 16806        & 42.01270 & -87.66606 & 42.01954 & -87.66956 & casual\\\\\n",
       "\t E6159D746B2DBB91 & electric\\_bike & 2021-02-09 19:10:18 & 2021-02-09 19:19:10 & Clark St \\& Lake St         & KA1503000012 & State St \\& Randolph St     & TA1305000029 & 41.88579 & -87.63110 & 41.88487 & -87.62750 & member\\\\\n",
       "\t B32D3199F1C2E75B & classic\\_bike  & 2021-02-02 17:49:41 & 2021-02-02 17:54:06 & Wood St \\& Chicago Ave      & 637          & Honore St \\& Division St    & TA1305000034 & 41.89563 & -87.67207 & 41.90312 & -87.67394 & member\\\\\n",
       "\t 83E463F23575F4BF & electric\\_bike & 2021-02-23 15:07:23 & 2021-02-23 15:22:37 & State St \\& 33rd St         & 13216        & Emerald Ave \\& 31st St      & TA1309000055 & 41.83473 & -87.62583 & 41.83816 & -87.64512 & member\\\\\n",
       "\t BDAA7E3494E8D545 & electric\\_bike & 2021-02-24 15:43:33 & 2021-02-24 15:49:05 & Fairbanks St \\& Superior St & 18003        & LaSalle Dr \\& Huron St      & KP1705001026 & 41.89581 & -87.62025 & 41.89489 & -87.63198 & casual\\\\\n",
       "\\end{tabular}\n"
      ],
      "text/markdown": [
       "\n",
       "A tibble: 6 × 13\n",
       "\n",
       "| ride_id &lt;chr&gt; | rideable_type &lt;chr&gt; | started_at &lt;dttm&gt; | ended_at &lt;dttm&gt; | start_station_name &lt;chr&gt; | start_station_id &lt;chr&gt; | end_station_name &lt;chr&gt; | end_station_id &lt;chr&gt; | start_lat &lt;dbl&gt; | start_lng &lt;dbl&gt; | end_lat &lt;dbl&gt; | end_lng &lt;dbl&gt; | member_casual &lt;chr&gt; |\n",
       "|---|---|---|---|---|---|---|---|---|---|---|---|---|\n",
       "| 89E7AA6C29227EFF | classic_bike  | 2021-02-12 16:14:56 | 2021-02-12 16:21:43 | Glenwood Ave &amp; Touhy Ave   | 525          | Sheridan Rd &amp; Columbia Ave | 660          | 42.01270 | -87.66606 | 42.00458 | -87.66141 | member |\n",
       "| 0FEFDE2603568365 | classic_bike  | 2021-02-14 17:52:38 | 2021-02-14 18:12:09 | Glenwood Ave &amp; Touhy Ave   | 525          | Bosworth Ave &amp; Howard St   | 16806        | 42.01270 | -87.66606 | 42.01954 | -87.66956 | casual |\n",
       "| E6159D746B2DBB91 | electric_bike | 2021-02-09 19:10:18 | 2021-02-09 19:19:10 | Clark St &amp; Lake St         | KA1503000012 | State St &amp; Randolph St     | TA1305000029 | 41.88579 | -87.63110 | 41.88487 | -87.62750 | member |\n",
       "| B32D3199F1C2E75B | classic_bike  | 2021-02-02 17:49:41 | 2021-02-02 17:54:06 | Wood St &amp; Chicago Ave      | 637          | Honore St &amp; Division St    | TA1305000034 | 41.89563 | -87.67207 | 41.90312 | -87.67394 | member |\n",
       "| 83E463F23575F4BF | electric_bike | 2021-02-23 15:07:23 | 2021-02-23 15:22:37 | State St &amp; 33rd St         | 13216        | Emerald Ave &amp; 31st St      | TA1309000055 | 41.83473 | -87.62583 | 41.83816 | -87.64512 | member |\n",
       "| BDAA7E3494E8D545 | electric_bike | 2021-02-24 15:43:33 | 2021-02-24 15:49:05 | Fairbanks St &amp; Superior St | 18003        | LaSalle Dr &amp; Huron St      | KP1705001026 | 41.89581 | -87.62025 | 41.89489 | -87.63198 | casual |\n",
       "\n"
      ],
      "text/plain": [
       "  ride_id          rideable_type started_at          ended_at           \n",
       "1 89E7AA6C29227EFF classic_bike  2021-02-12 16:14:56 2021-02-12 16:21:43\n",
       "2 0FEFDE2603568365 classic_bike  2021-02-14 17:52:38 2021-02-14 18:12:09\n",
       "3 E6159D746B2DBB91 electric_bike 2021-02-09 19:10:18 2021-02-09 19:19:10\n",
       "4 B32D3199F1C2E75B classic_bike  2021-02-02 17:49:41 2021-02-02 17:54:06\n",
       "5 83E463F23575F4BF electric_bike 2021-02-23 15:07:23 2021-02-23 15:22:37\n",
       "6 BDAA7E3494E8D545 electric_bike 2021-02-24 15:43:33 2021-02-24 15:49:05\n",
       "  start_station_name         start_station_id end_station_name          \n",
       "1 Glenwood Ave & Touhy Ave   525              Sheridan Rd & Columbia Ave\n",
       "2 Glenwood Ave & Touhy Ave   525              Bosworth Ave & Howard St  \n",
       "3 Clark St & Lake St         KA1503000012     State St & Randolph St    \n",
       "4 Wood St & Chicago Ave      637              Honore St & Division St   \n",
       "5 State St & 33rd St         13216            Emerald Ave & 31st St     \n",
       "6 Fairbanks St & Superior St 18003            LaSalle Dr & Huron St     \n",
       "  end_station_id start_lat start_lng end_lat  end_lng   member_casual\n",
       "1 660            42.01270  -87.66606 42.00458 -87.66141 member       \n",
       "2 16806          42.01270  -87.66606 42.01954 -87.66956 casual       \n",
       "3 TA1305000029   41.88579  -87.63110 41.88487 -87.62750 member       \n",
       "4 TA1305000034   41.89563  -87.67207 41.90312 -87.67394 member       \n",
       "5 TA1309000055   41.83473  -87.62583 41.83816 -87.64512 member       \n",
       "6 KP1705001026   41.89581  -87.62025 41.89489 -87.63198 casual       "
      ]
     },
     "metadata": {},
     "output_type": "display_data"
    }
   ],
   "source": [
    "head(trip_data) #see the first 6 rows of the data frame"
   ]
  },
  {
   "cell_type": "code",
   "execution_count": 19,
   "id": "4f471208",
   "metadata": {
    "execution": {
     "iopub.execute_input": "2022-05-28T23:48:30.799128Z",
     "iopub.status.busy": "2022-05-28T23:48:30.797590Z",
     "iopub.status.idle": "2022-05-28T23:48:30.822693Z",
     "shell.execute_reply": "2022-05-28T23:48:30.820418Z"
    },
    "papermill": {
     "duration": 0.26754,
     "end_time": "2022-05-28T23:48:30.822907",
     "exception": false,
     "start_time": "2022-05-28T23:48:30.555367",
     "status": "completed"
    },
    "tags": []
   },
   "outputs": [
    {
     "data": {
      "text/html": [
       "5601999"
      ],
      "text/latex": [
       "5601999"
      ],
      "text/markdown": [
       "5601999"
      ],
      "text/plain": [
       "[1] 5601999"
      ]
     },
     "metadata": {},
     "output_type": "display_data"
    }
   ],
   "source": [
    "nrow(trip_data) #how many rows are in the data frame"
   ]
  },
  {
   "cell_type": "code",
   "execution_count": 20,
   "id": "22da509e",
   "metadata": {
    "execution": {
     "iopub.execute_input": "2022-05-28T23:48:31.279756Z",
     "iopub.status.busy": "2022-05-28T23:48:31.279108Z",
     "iopub.status.idle": "2022-05-28T23:48:31.296388Z",
     "shell.execute_reply": "2022-05-28T23:48:31.294736Z"
    },
    "papermill": {
     "duration": 0.246352,
     "end_time": "2022-05-28T23:48:31.296534",
     "exception": false,
     "start_time": "2022-05-28T23:48:31.050182",
     "status": "completed"
    },
    "tags": []
   },
   "outputs": [
    {
     "data": {
      "text/html": [
       "<style>\n",
       ".list-inline {list-style: none; margin:0; padding: 0}\n",
       ".list-inline>li {display: inline-block}\n",
       ".list-inline>li:not(:last-child)::after {content: \"\\00b7\"; padding: 0 .5ex}\n",
       "</style>\n",
       "<ol class=list-inline><li>'ride_id'</li><li>'rideable_type'</li><li>'started_at'</li><li>'ended_at'</li><li>'start_station_name'</li><li>'start_station_id'</li><li>'end_station_name'</li><li>'end_station_id'</li><li>'start_lat'</li><li>'start_lng'</li><li>'end_lat'</li><li>'end_lng'</li><li>'member_casual'</li></ol>\n"
      ],
      "text/latex": [
       "\\begin{enumerate*}\n",
       "\\item 'ride\\_id'\n",
       "\\item 'rideable\\_type'\n",
       "\\item 'started\\_at'\n",
       "\\item 'ended\\_at'\n",
       "\\item 'start\\_station\\_name'\n",
       "\\item 'start\\_station\\_id'\n",
       "\\item 'end\\_station\\_name'\n",
       "\\item 'end\\_station\\_id'\n",
       "\\item 'start\\_lat'\n",
       "\\item 'start\\_lng'\n",
       "\\item 'end\\_lat'\n",
       "\\item 'end\\_lng'\n",
       "\\item 'member\\_casual'\n",
       "\\end{enumerate*}\n"
      ],
      "text/markdown": [
       "1. 'ride_id'\n",
       "2. 'rideable_type'\n",
       "3. 'started_at'\n",
       "4. 'ended_at'\n",
       "5. 'start_station_name'\n",
       "6. 'start_station_id'\n",
       "7. 'end_station_name'\n",
       "8. 'end_station_id'\n",
       "9. 'start_lat'\n",
       "10. 'start_lng'\n",
       "11. 'end_lat'\n",
       "12. 'end_lng'\n",
       "13. 'member_casual'\n",
       "\n",
       "\n"
      ],
      "text/plain": [
       " [1] \"ride_id\"            \"rideable_type\"      \"started_at\"        \n",
       " [4] \"ended_at\"           \"start_station_name\" \"start_station_id\"  \n",
       " [7] \"end_station_name\"   \"end_station_id\"     \"start_lat\"         \n",
       "[10] \"start_lng\"          \"end_lat\"            \"end_lng\"           \n",
       "[13] \"member_casual\"     "
      ]
     },
     "metadata": {},
     "output_type": "display_data"
    }
   ],
   "source": [
    "colnames(trip_data) #list of column names"
   ]
  },
  {
   "cell_type": "code",
   "execution_count": 21,
   "id": "85570aa1",
   "metadata": {
    "execution": {
     "iopub.execute_input": "2022-05-28T23:48:31.764004Z",
     "iopub.status.busy": "2022-05-28T23:48:31.762803Z",
     "iopub.status.idle": "2022-05-28T23:48:31.782234Z",
     "shell.execute_reply": "2022-05-28T23:48:31.780244Z"
    },
    "papermill": {
     "duration": 0.255265,
     "end_time": "2022-05-28T23:48:31.782409",
     "exception": false,
     "start_time": "2022-05-28T23:48:31.527144",
     "status": "completed"
    },
    "tags": []
   },
   "outputs": [
    {
     "data": {
      "text/html": [
       "<style>\n",
       ".list-inline {list-style: none; margin:0; padding: 0}\n",
       ".list-inline>li {display: inline-block}\n",
       ".list-inline>li:not(:last-child)::after {content: \"\\00b7\"; padding: 0 .5ex}\n",
       "</style>\n",
       "<ol class=list-inline><li>5601999</li><li>13</li></ol>\n"
      ],
      "text/latex": [
       "\\begin{enumerate*}\n",
       "\\item 5601999\n",
       "\\item 13\n",
       "\\end{enumerate*}\n"
      ],
      "text/markdown": [
       "1. 5601999\n",
       "2. 13\n",
       "\n",
       "\n"
      ],
      "text/plain": [
       "[1] 5601999      13"
      ]
     },
     "metadata": {},
     "output_type": "display_data"
    }
   ],
   "source": [
    "dim(trip_data) #dimensions of the data frame"
   ]
  },
  {
   "cell_type": "code",
   "execution_count": 22,
   "id": "4d35d09e",
   "metadata": {
    "execution": {
     "iopub.execute_input": "2022-05-28T23:48:32.254722Z",
     "iopub.status.busy": "2022-05-28T23:48:32.252439Z",
     "iopub.status.idle": "2022-05-28T23:48:38.350744Z",
     "shell.execute_reply": "2022-05-28T23:48:38.348597Z"
    },
    "papermill": {
     "duration": 6.335055,
     "end_time": "2022-05-28T23:48:38.350919",
     "exception": false,
     "start_time": "2022-05-28T23:48:32.015864",
     "status": "completed"
    },
    "tags": []
   },
   "outputs": [
    {
     "data": {
      "text/plain": [
       "   ride_id          rideable_type        started_at                 \n",
       " Length:5601999     Length:5601999     Min.   :2021-02-01 00:55:44  \n",
       " Class :character   Class :character   1st Qu.:2021-06-11 12:40:12  \n",
       " Mode  :character   Mode  :character   Median :2021-08-04 22:01:30  \n",
       "                                       Mean   :2021-08-04 20:30:49  \n",
       "                                       3rd Qu.:2021-09-28 16:39:49  \n",
       "                                       Max.   :2022-01-31 23:58:37  \n",
       "                                                                    \n",
       "    ended_at                   start_station_name start_station_id  \n",
       " Min.   :2021-02-01 01:22:48   Length:5601999     Length:5601999    \n",
       " 1st Qu.:2021-06-11 13:03:36   Class :character   Class :character  \n",
       " Median :2021-08-04 22:23:12   Mode  :character   Mode  :character  \n",
       " Mean   :2021-08-04 20:52:45                                        \n",
       " 3rd Qu.:2021-09-28 16:55:21                                        \n",
       " Max.   :2022-02-01 01:46:16                                        \n",
       "                                                                    \n",
       " end_station_name   end_station_id       start_lat       start_lng     \n",
       " Length:5601999     Length:5601999     Min.   :41.64   Min.   :-87.84  \n",
       " Class :character   Class :character   1st Qu.:41.88   1st Qu.:-87.66  \n",
       " Mode  :character   Mode  :character   Median :41.90   Median :-87.64  \n",
       "                                       Mean   :41.90   Mean   :-87.65  \n",
       "                                       3rd Qu.:41.93   3rd Qu.:-87.63  \n",
       "                                       Max.   :45.64   Max.   :-73.80  \n",
       "                                                                       \n",
       "    end_lat         end_lng       member_casual     \n",
       " Min.   :41.39   Min.   :-88.97   Length:5601999    \n",
       " 1st Qu.:41.88   1st Qu.:-87.66   Class :character  \n",
       " Median :41.90   Median :-87.64   Mode  :character  \n",
       " Mean   :41.90   Mean   :-87.65                     \n",
       " 3rd Qu.:41.93   3rd Qu.:-87.63                     \n",
       " Max.   :42.17   Max.   :-87.49                     \n",
       " NA's   :4754    NA's   :4754                       "
      ]
     },
     "metadata": {},
     "output_type": "display_data"
    }
   ],
   "source": [
    "summary(trip_data) #statistical summary of data, mainly for numerics"
   ]
  },
  {
   "cell_type": "code",
   "execution_count": 23,
   "id": "a7c9ade1",
   "metadata": {
    "execution": {
     "iopub.execute_input": "2022-05-28T23:48:38.820519Z",
     "iopub.status.busy": "2022-05-28T23:48:38.818487Z",
     "iopub.status.idle": "2022-05-28T23:48:38.870283Z",
     "shell.execute_reply": "2022-05-28T23:48:38.868603Z"
    },
    "papermill": {
     "duration": 0.28685,
     "end_time": "2022-05-28T23:48:38.870437",
     "exception": false,
     "start_time": "2022-05-28T23:48:38.583587",
     "status": "completed"
    },
    "tags": []
   },
   "outputs": [
    {
     "name": "stdout",
     "output_type": "stream",
     "text": [
      "spec_tbl_df [5,601,999 × 13] (S3: spec_tbl_df/tbl_df/tbl/data.frame)\n",
      " $ ride_id           : chr [1:5601999] \"89E7AA6C29227EFF\" \"0FEFDE2603568365\" \"E6159D746B2DBB91\" \"B32D3199F1C2E75B\" ...\n",
      " $ rideable_type     : chr [1:5601999] \"classic_bike\" \"classic_bike\" \"electric_bike\" \"classic_bike\" ...\n",
      " $ started_at        : POSIXct[1:5601999], format: \"2021-02-12 16:14:56\" \"2021-02-14 17:52:38\" ...\n",
      " $ ended_at          : POSIXct[1:5601999], format: \"2021-02-12 16:21:43\" \"2021-02-14 18:12:09\" ...\n",
      " $ start_station_name: chr [1:5601999] \"Glenwood Ave & Touhy Ave\" \"Glenwood Ave & Touhy Ave\" \"Clark St & Lake St\" \"Wood St & Chicago Ave\" ...\n",
      " $ start_station_id  : chr [1:5601999] \"525\" \"525\" \"KA1503000012\" \"637\" ...\n",
      " $ end_station_name  : chr [1:5601999] \"Sheridan Rd & Columbia Ave\" \"Bosworth Ave & Howard St\" \"State St & Randolph St\" \"Honore St & Division St\" ...\n",
      " $ end_station_id    : chr [1:5601999] \"660\" \"16806\" \"TA1305000029\" \"TA1305000034\" ...\n",
      " $ start_lat         : num [1:5601999] 42 42 41.9 41.9 41.8 ...\n",
      " $ start_lng         : num [1:5601999] -87.7 -87.7 -87.6 -87.7 -87.6 ...\n",
      " $ end_lat           : num [1:5601999] 42 42 41.9 41.9 41.8 ...\n",
      " $ end_lng           : num [1:5601999] -87.7 -87.7 -87.6 -87.7 -87.6 ...\n",
      " $ member_casual     : chr [1:5601999] \"member\" \"casual\" \"member\" \"member\" ...\n",
      " - attr(*, \"spec\")=\n",
      "  .. cols(\n",
      "  ..   ride_id = \u001b[31mcol_character()\u001b[39m,\n",
      "  ..   rideable_type = \u001b[31mcol_character()\u001b[39m,\n",
      "  ..   started_at = \u001b[34mcol_datetime(format = \"\")\u001b[39m,\n",
      "  ..   ended_at = \u001b[34mcol_datetime(format = \"\")\u001b[39m,\n",
      "  ..   start_station_name = \u001b[31mcol_character()\u001b[39m,\n",
      "  ..   start_station_id = \u001b[31mcol_character()\u001b[39m,\n",
      "  ..   end_station_name = \u001b[31mcol_character()\u001b[39m,\n",
      "  ..   end_station_id = \u001b[31mcol_character()\u001b[39m,\n",
      "  ..   start_lat = \u001b[32mcol_double()\u001b[39m,\n",
      "  ..   start_lng = \u001b[32mcol_double()\u001b[39m,\n",
      "  ..   end_lat = \u001b[32mcol_double()\u001b[39m,\n",
      "  ..   end_lng = \u001b[32mcol_double()\u001b[39m,\n",
      "  ..   member_casual = \u001b[31mcol_character()\u001b[39m\n",
      "  .. )\n",
      " - attr(*, \"problems\")=<externalptr> \n"
     ]
    }
   ],
   "source": [
    "str(trip_data) #see list of columns and data types"
   ]
  },
  {
   "cell_type": "code",
   "execution_count": 24,
   "id": "2b143ba9",
   "metadata": {
    "execution": {
     "iopub.execute_input": "2022-05-28T23:48:39.347455Z",
     "iopub.status.busy": "2022-05-28T23:48:39.345363Z",
     "iopub.status.idle": "2022-05-28T23:48:39.376967Z",
     "shell.execute_reply": "2022-05-28T23:48:39.375309Z"
    },
    "papermill": {
     "duration": 0.269282,
     "end_time": "2022-05-28T23:48:39.377140",
     "exception": false,
     "start_time": "2022-05-28T23:48:39.107858",
     "status": "completed"
    },
    "tags": []
   },
   "outputs": [
    {
     "data": {
      "text/html": [
       "<table class=\"dataframe\">\n",
       "<caption>A tibble: 6 × 13</caption>\n",
       "<thead>\n",
       "\t<tr><th scope=col>ride_id</th><th scope=col>rideable_type</th><th scope=col>started_at</th><th scope=col>ended_at</th><th scope=col>start_station_name</th><th scope=col>start_station_id</th><th scope=col>end_station_name</th><th scope=col>end_station_id</th><th scope=col>start_lat</th><th scope=col>start_lng</th><th scope=col>end_lat</th><th scope=col>end_lng</th><th scope=col>member_casual</th></tr>\n",
       "\t<tr><th scope=col>&lt;chr&gt;</th><th scope=col>&lt;chr&gt;</th><th scope=col>&lt;dttm&gt;</th><th scope=col>&lt;dttm&gt;</th><th scope=col>&lt;chr&gt;</th><th scope=col>&lt;chr&gt;</th><th scope=col>&lt;chr&gt;</th><th scope=col>&lt;chr&gt;</th><th scope=col>&lt;dbl&gt;</th><th scope=col>&lt;dbl&gt;</th><th scope=col>&lt;dbl&gt;</th><th scope=col>&lt;dbl&gt;</th><th scope=col>&lt;chr&gt;</th></tr>\n",
       "</thead>\n",
       "<tbody>\n",
       "\t<tr><td>9C80CD03B685B1B4</td><td>electric_bike</td><td>2022-01-09 18:56:50</td><td>2022-01-09 19:02:50</td><td><span style=white-space:pre-wrap>Broadway &amp; Waveland Ave     </span></td><td>13325 </td><td><span style=white-space:pre-wrap>NA                       </span></td><td><span style=white-space:pre-wrap>NA          </span></td><td>41.94904</td><td>-87.64850</td><td>41.93000</td><td>-87.64000</td><td>casual</td></tr>\n",
       "\t<tr><td>8788DA3EDE8FD8AB</td><td>electric_bike</td><td>2022-01-18 12:36:48</td><td>2022-01-18 12:46:19</td><td>Clinton St &amp; Washington Blvd</td><td>WL-012</td><td><span style=white-space:pre-wrap>NA                       </span></td><td><span style=white-space:pre-wrap>NA          </span></td><td>41.88344</td><td>-87.64139</td><td>41.89000</td><td>-87.62000</td><td>casual</td></tr>\n",
       "\t<tr><td>C6C3B64FDC827D8C</td><td>electric_bike</td><td>2022-01-27 11:00:06</td><td>2022-01-27 11:02:40</td><td><span style=white-space:pre-wrap>Racine Ave &amp; Randolph St    </span></td><td>13155 </td><td><span style=white-space:pre-wrap>NA                       </span></td><td><span style=white-space:pre-wrap>NA          </span></td><td>41.88416</td><td>-87.65698</td><td>41.88000</td><td>-87.65000</td><td>casual</td></tr>\n",
       "\t<tr><td>CA281AE7D8B06F5A</td><td>electric_bike</td><td>2022-01-10 16:14:51</td><td>2022-01-10 16:20:58</td><td><span style=white-space:pre-wrap>Broadway &amp; Waveland Ave     </span></td><td>13325 </td><td><span style=white-space:pre-wrap>Clark St &amp; Grace St      </span></td><td>TA1307000127</td><td>41.94907</td><td>-87.64861</td><td>41.95078</td><td>-87.65917</td><td>casual</td></tr>\n",
       "\t<tr><td>44E348991862319B</td><td>electric_bike</td><td>2022-01-19 13:22:11</td><td>2022-01-19 13:24:27</td><td><span style=white-space:pre-wrap>Racine Ave &amp; Randolph St    </span></td><td>13155 </td><td><span style=white-space:pre-wrap>NA                       </span></td><td><span style=white-space:pre-wrap>NA          </span></td><td>41.88401</td><td>-87.65703</td><td>41.88000</td><td>-87.66000</td><td>casual</td></tr>\n",
       "\t<tr><td>E477C594A182AE58</td><td>electric_bike</td><td>2022-01-13 17:24:43</td><td>2022-01-13 17:28:14</td><td>Clinton St &amp; Washington Blvd</td><td>WL-012</td><td>Desplaines St &amp; Kinzie St</td><td>TA1306000003</td><td>41.88325</td><td>-87.64124</td><td>41.88872</td><td>-87.64445</td><td>casual</td></tr>\n",
       "</tbody>\n",
       "</table>\n"
      ],
      "text/latex": [
       "A tibble: 6 × 13\n",
       "\\begin{tabular}{lllllllllllll}\n",
       " ride\\_id & rideable\\_type & started\\_at & ended\\_at & start\\_station\\_name & start\\_station\\_id & end\\_station\\_name & end\\_station\\_id & start\\_lat & start\\_lng & end\\_lat & end\\_lng & member\\_casual\\\\\n",
       " <chr> & <chr> & <dttm> & <dttm> & <chr> & <chr> & <chr> & <chr> & <dbl> & <dbl> & <dbl> & <dbl> & <chr>\\\\\n",
       "\\hline\n",
       "\t 9C80CD03B685B1B4 & electric\\_bike & 2022-01-09 18:56:50 & 2022-01-09 19:02:50 & Broadway \\& Waveland Ave      & 13325  & NA                        & NA           & 41.94904 & -87.64850 & 41.93000 & -87.64000 & casual\\\\\n",
       "\t 8788DA3EDE8FD8AB & electric\\_bike & 2022-01-18 12:36:48 & 2022-01-18 12:46:19 & Clinton St \\& Washington Blvd & WL-012 & NA                        & NA           & 41.88344 & -87.64139 & 41.89000 & -87.62000 & casual\\\\\n",
       "\t C6C3B64FDC827D8C & electric\\_bike & 2022-01-27 11:00:06 & 2022-01-27 11:02:40 & Racine Ave \\& Randolph St     & 13155  & NA                        & NA           & 41.88416 & -87.65698 & 41.88000 & -87.65000 & casual\\\\\n",
       "\t CA281AE7D8B06F5A & electric\\_bike & 2022-01-10 16:14:51 & 2022-01-10 16:20:58 & Broadway \\& Waveland Ave      & 13325  & Clark St \\& Grace St       & TA1307000127 & 41.94907 & -87.64861 & 41.95078 & -87.65917 & casual\\\\\n",
       "\t 44E348991862319B & electric\\_bike & 2022-01-19 13:22:11 & 2022-01-19 13:24:27 & Racine Ave \\& Randolph St     & 13155  & NA                        & NA           & 41.88401 & -87.65703 & 41.88000 & -87.66000 & casual\\\\\n",
       "\t E477C594A182AE58 & electric\\_bike & 2022-01-13 17:24:43 & 2022-01-13 17:28:14 & Clinton St \\& Washington Blvd & WL-012 & Desplaines St \\& Kinzie St & TA1306000003 & 41.88325 & -87.64124 & 41.88872 & -87.64445 & casual\\\\\n",
       "\\end{tabular}\n"
      ],
      "text/markdown": [
       "\n",
       "A tibble: 6 × 13\n",
       "\n",
       "| ride_id &lt;chr&gt; | rideable_type &lt;chr&gt; | started_at &lt;dttm&gt; | ended_at &lt;dttm&gt; | start_station_name &lt;chr&gt; | start_station_id &lt;chr&gt; | end_station_name &lt;chr&gt; | end_station_id &lt;chr&gt; | start_lat &lt;dbl&gt; | start_lng &lt;dbl&gt; | end_lat &lt;dbl&gt; | end_lng &lt;dbl&gt; | member_casual &lt;chr&gt; |\n",
       "|---|---|---|---|---|---|---|---|---|---|---|---|---|\n",
       "| 9C80CD03B685B1B4 | electric_bike | 2022-01-09 18:56:50 | 2022-01-09 19:02:50 | Broadway &amp; Waveland Ave      | 13325  | NA                        | NA           | 41.94904 | -87.64850 | 41.93000 | -87.64000 | casual |\n",
       "| 8788DA3EDE8FD8AB | electric_bike | 2022-01-18 12:36:48 | 2022-01-18 12:46:19 | Clinton St &amp; Washington Blvd | WL-012 | NA                        | NA           | 41.88344 | -87.64139 | 41.89000 | -87.62000 | casual |\n",
       "| C6C3B64FDC827D8C | electric_bike | 2022-01-27 11:00:06 | 2022-01-27 11:02:40 | Racine Ave &amp; Randolph St     | 13155  | NA                        | NA           | 41.88416 | -87.65698 | 41.88000 | -87.65000 | casual |\n",
       "| CA281AE7D8B06F5A | electric_bike | 2022-01-10 16:14:51 | 2022-01-10 16:20:58 | Broadway &amp; Waveland Ave      | 13325  | Clark St &amp; Grace St       | TA1307000127 | 41.94907 | -87.64861 | 41.95078 | -87.65917 | casual |\n",
       "| 44E348991862319B | electric_bike | 2022-01-19 13:22:11 | 2022-01-19 13:24:27 | Racine Ave &amp; Randolph St     | 13155  | NA                        | NA           | 41.88401 | -87.65703 | 41.88000 | -87.66000 | casual |\n",
       "| E477C594A182AE58 | electric_bike | 2022-01-13 17:24:43 | 2022-01-13 17:28:14 | Clinton St &amp; Washington Blvd | WL-012 | Desplaines St &amp; Kinzie St | TA1306000003 | 41.88325 | -87.64124 | 41.88872 | -87.64445 | casual |\n",
       "\n"
      ],
      "text/plain": [
       "  ride_id          rideable_type started_at          ended_at           \n",
       "1 9C80CD03B685B1B4 electric_bike 2022-01-09 18:56:50 2022-01-09 19:02:50\n",
       "2 8788DA3EDE8FD8AB electric_bike 2022-01-18 12:36:48 2022-01-18 12:46:19\n",
       "3 C6C3B64FDC827D8C electric_bike 2022-01-27 11:00:06 2022-01-27 11:02:40\n",
       "4 CA281AE7D8B06F5A electric_bike 2022-01-10 16:14:51 2022-01-10 16:20:58\n",
       "5 44E348991862319B electric_bike 2022-01-19 13:22:11 2022-01-19 13:24:27\n",
       "6 E477C594A182AE58 electric_bike 2022-01-13 17:24:43 2022-01-13 17:28:14\n",
       "  start_station_name           start_station_id end_station_name         \n",
       "1 Broadway & Waveland Ave      13325            NA                       \n",
       "2 Clinton St & Washington Blvd WL-012           NA                       \n",
       "3 Racine Ave & Randolph St     13155            NA                       \n",
       "4 Broadway & Waveland Ave      13325            Clark St & Grace St      \n",
       "5 Racine Ave & Randolph St     13155            NA                       \n",
       "6 Clinton St & Washington Blvd WL-012           Desplaines St & Kinzie St\n",
       "  end_station_id start_lat start_lng end_lat  end_lng   member_casual\n",
       "1 NA             41.94904  -87.64850 41.93000 -87.64000 casual       \n",
       "2 NA             41.88344  -87.64139 41.89000 -87.62000 casual       \n",
       "3 NA             41.88416  -87.65698 41.88000 -87.65000 casual       \n",
       "4 TA1307000127   41.94907  -87.64861 41.95078 -87.65917 casual       \n",
       "5 NA             41.88401  -87.65703 41.88000 -87.66000 casual       \n",
       "6 TA1306000003   41.88325  -87.64124 41.88872 -87.64445 casual       "
      ]
     },
     "metadata": {},
     "output_type": "display_data"
    }
   ],
   "source": [
    "tail(trip_data) #see the last 6 rows of the data frame"
   ]
  },
  {
   "cell_type": "markdown",
   "id": "f8eef6d5",
   "metadata": {
    "papermill": {
     "duration": 0.233799,
     "end_time": "2022-05-28T23:48:39.846580",
     "exception": false,
     "start_time": "2022-05-28T23:48:39.612781",
     "status": "completed"
    },
    "tags": []
   },
   "source": [
    "### Adding columns for date, month, year, day of the week into the data frame."
   ]
  },
  {
   "cell_type": "code",
   "execution_count": 25,
   "id": "251e6837",
   "metadata": {
    "execution": {
     "iopub.execute_input": "2022-05-28T23:48:40.327798Z",
     "iopub.status.busy": "2022-05-28T23:48:40.325780Z",
     "iopub.status.idle": "2022-05-28T23:48:40.443901Z",
     "shell.execute_reply": "2022-05-28T23:48:40.442290Z"
    },
    "papermill": {
     "duration": 0.358157,
     "end_time": "2022-05-28T23:48:40.444061",
     "exception": false,
     "start_time": "2022-05-28T23:48:40.085904",
     "status": "completed"
    },
    "tags": []
   },
   "outputs": [],
   "source": [
    "trip_data$date <- as.Date(trip_data$started_at)"
   ]
  },
  {
   "cell_type": "code",
   "execution_count": 26,
   "id": "619ae28f",
   "metadata": {
    "execution": {
     "iopub.execute_input": "2022-05-28T23:48:40.925174Z",
     "iopub.status.busy": "2022-05-28T23:48:40.922770Z",
     "iopub.status.idle": "2022-05-28T23:48:43.191643Z",
     "shell.execute_reply": "2022-05-28T23:48:43.190468Z"
    },
    "papermill": {
     "duration": 2.51188,
     "end_time": "2022-05-28T23:48:43.191792",
     "exception": false,
     "start_time": "2022-05-28T23:48:40.679912",
     "status": "completed"
    },
    "tags": []
   },
   "outputs": [],
   "source": [
    "trip_data$month <- format(as.Date(trip_data$date), \"%m\")"
   ]
  },
  {
   "cell_type": "code",
   "execution_count": 27,
   "id": "226ccd01",
   "metadata": {
    "execution": {
     "iopub.execute_input": "2022-05-28T23:48:43.668935Z",
     "iopub.status.busy": "2022-05-28T23:48:43.667126Z",
     "iopub.status.idle": "2022-05-28T23:48:47.202580Z",
     "shell.execute_reply": "2022-05-28T23:48:47.201265Z"
    },
    "papermill": {
     "duration": 3.774692,
     "end_time": "2022-05-28T23:48:47.202746",
     "exception": false,
     "start_time": "2022-05-28T23:48:43.428054",
     "status": "completed"
    },
    "tags": []
   },
   "outputs": [],
   "source": [
    "trip_data$day <- format(as.Date(trip_data$date), \"%d\")"
   ]
  },
  {
   "cell_type": "code",
   "execution_count": 28,
   "id": "f552748d",
   "metadata": {
    "execution": {
     "iopub.execute_input": "2022-05-28T23:48:47.681400Z",
     "iopub.status.busy": "2022-05-28T23:48:47.679940Z",
     "iopub.status.idle": "2022-05-28T23:48:49.696061Z",
     "shell.execute_reply": "2022-05-28T23:48:49.694732Z"
    },
    "papermill": {
     "duration": 2.256023,
     "end_time": "2022-05-28T23:48:49.696234",
     "exception": false,
     "start_time": "2022-05-28T23:48:47.440211",
     "status": "completed"
    },
    "tags": []
   },
   "outputs": [],
   "source": [
    "trip_data$year <- format(as.Date(trip_data$date), \"%Y\")"
   ]
  },
  {
   "cell_type": "code",
   "execution_count": 29,
   "id": "1e7c33f3",
   "metadata": {
    "execution": {
     "iopub.execute_input": "2022-05-28T23:48:50.187016Z",
     "iopub.status.busy": "2022-05-28T23:48:50.185561Z",
     "iopub.status.idle": "2022-05-28T23:48:53.063530Z",
     "shell.execute_reply": "2022-05-28T23:48:53.062165Z"
    },
    "papermill": {
     "duration": 3.125093,
     "end_time": "2022-05-28T23:48:53.063681",
     "exception": false,
     "start_time": "2022-05-28T23:48:49.938588",
     "status": "completed"
    },
    "tags": []
   },
   "outputs": [],
   "source": [
    "trip_data$day_of_week <- format(as.Date(trip_data$date), \"%A\")"
   ]
  },
  {
   "cell_type": "code",
   "execution_count": 30,
   "id": "aa0175d5",
   "metadata": {
    "execution": {
     "iopub.execute_input": "2022-05-28T23:48:53.542283Z",
     "iopub.status.busy": "2022-05-28T23:48:53.540122Z",
     "iopub.status.idle": "2022-05-28T23:48:53.560535Z",
     "shell.execute_reply": "2022-05-28T23:48:53.558660Z"
    },
    "papermill": {
     "duration": 0.261002,
     "end_time": "2022-05-28T23:48:53.560700",
     "exception": false,
     "start_time": "2022-05-28T23:48:53.299698",
     "status": "completed"
    },
    "tags": []
   },
   "outputs": [
    {
     "data": {
      "text/html": [
       "<style>\n",
       ".list-inline {list-style: none; margin:0; padding: 0}\n",
       ".list-inline>li {display: inline-block}\n",
       ".list-inline>li:not(:last-child)::after {content: \"\\00b7\"; padding: 0 .5ex}\n",
       "</style>\n",
       "<ol class=list-inline><li>'ride_id'</li><li>'rideable_type'</li><li>'started_at'</li><li>'ended_at'</li><li>'start_station_name'</li><li>'start_station_id'</li><li>'end_station_name'</li><li>'end_station_id'</li><li>'start_lat'</li><li>'start_lng'</li><li>'end_lat'</li><li>'end_lng'</li><li>'member_casual'</li><li>'date'</li><li>'month'</li><li>'day'</li><li>'year'</li><li>'day_of_week'</li></ol>\n"
      ],
      "text/latex": [
       "\\begin{enumerate*}\n",
       "\\item 'ride\\_id'\n",
       "\\item 'rideable\\_type'\n",
       "\\item 'started\\_at'\n",
       "\\item 'ended\\_at'\n",
       "\\item 'start\\_station\\_name'\n",
       "\\item 'start\\_station\\_id'\n",
       "\\item 'end\\_station\\_name'\n",
       "\\item 'end\\_station\\_id'\n",
       "\\item 'start\\_lat'\n",
       "\\item 'start\\_lng'\n",
       "\\item 'end\\_lat'\n",
       "\\item 'end\\_lng'\n",
       "\\item 'member\\_casual'\n",
       "\\item 'date'\n",
       "\\item 'month'\n",
       "\\item 'day'\n",
       "\\item 'year'\n",
       "\\item 'day\\_of\\_week'\n",
       "\\end{enumerate*}\n"
      ],
      "text/markdown": [
       "1. 'ride_id'\n",
       "2. 'rideable_type'\n",
       "3. 'started_at'\n",
       "4. 'ended_at'\n",
       "5. 'start_station_name'\n",
       "6. 'start_station_id'\n",
       "7. 'end_station_name'\n",
       "8. 'end_station_id'\n",
       "9. 'start_lat'\n",
       "10. 'start_lng'\n",
       "11. 'end_lat'\n",
       "12. 'end_lng'\n",
       "13. 'member_casual'\n",
       "14. 'date'\n",
       "15. 'month'\n",
       "16. 'day'\n",
       "17. 'year'\n",
       "18. 'day_of_week'\n",
       "\n",
       "\n"
      ],
      "text/plain": [
       " [1] \"ride_id\"            \"rideable_type\"      \"started_at\"        \n",
       " [4] \"ended_at\"           \"start_station_name\" \"start_station_id\"  \n",
       " [7] \"end_station_name\"   \"end_station_id\"     \"start_lat\"         \n",
       "[10] \"start_lng\"          \"end_lat\"            \"end_lng\"           \n",
       "[13] \"member_casual\"      \"date\"               \"month\"             \n",
       "[16] \"day\"                \"year\"               \"day_of_week\"       "
      ]
     },
     "metadata": {},
     "output_type": "display_data"
    }
   ],
   "source": [
    "colnames(trip_data) #to get the names of all the columns"
   ]
  },
  {
   "cell_type": "markdown",
   "id": "8f372de3",
   "metadata": {
    "papermill": {
     "duration": 0.241271,
     "end_time": "2022-05-28T23:48:54.040991",
     "exception": false,
     "start_time": "2022-05-28T23:48:53.799720",
     "status": "completed"
    },
    "tags": []
   },
   "source": [
    "### Add a ride_length calculation to trip_data"
   ]
  },
  {
   "cell_type": "code",
   "execution_count": 31,
   "id": "426c5901",
   "metadata": {
    "execution": {
     "iopub.execute_input": "2022-05-28T23:48:54.531988Z",
     "iopub.status.busy": "2022-05-28T23:48:54.529903Z",
     "iopub.status.idle": "2022-05-28T23:48:54.588842Z",
     "shell.execute_reply": "2022-05-28T23:48:54.587165Z"
    },
    "papermill": {
     "duration": 0.305419,
     "end_time": "2022-05-28T23:48:54.589001",
     "exception": false,
     "start_time": "2022-05-28T23:48:54.283582",
     "status": "completed"
    },
    "tags": []
   },
   "outputs": [],
   "source": [
    "trip_data$ride_length <- difftime(trip_data$ended_at, trip_data$started_at)"
   ]
  },
  {
   "cell_type": "code",
   "execution_count": 32,
   "id": "ea8f763e",
   "metadata": {
    "execution": {
     "iopub.execute_input": "2022-05-28T23:48:55.108520Z",
     "iopub.status.busy": "2022-05-28T23:48:55.106965Z",
     "iopub.status.idle": "2022-05-28T23:48:55.159604Z",
     "shell.execute_reply": "2022-05-28T23:48:55.158150Z"
    },
    "papermill": {
     "duration": 0.297681,
     "end_time": "2022-05-28T23:48:55.159746",
     "exception": false,
     "start_time": "2022-05-28T23:48:54.862065",
     "status": "completed"
    },
    "tags": []
   },
   "outputs": [
    {
     "name": "stdout",
     "output_type": "stream",
     "text": [
      "spec_tbl_df [5,601,999 × 19] (S3: spec_tbl_df/tbl_df/tbl/data.frame)\n",
      " $ ride_id           : chr [1:5601999] \"89E7AA6C29227EFF\" \"0FEFDE2603568365\" \"E6159D746B2DBB91\" \"B32D3199F1C2E75B\" ...\n",
      " $ rideable_type     : chr [1:5601999] \"classic_bike\" \"classic_bike\" \"electric_bike\" \"classic_bike\" ...\n",
      " $ started_at        : POSIXct[1:5601999], format: \"2021-02-12 16:14:56\" \"2021-02-14 17:52:38\" ...\n",
      " $ ended_at          : POSIXct[1:5601999], format: \"2021-02-12 16:21:43\" \"2021-02-14 18:12:09\" ...\n",
      " $ start_station_name: chr [1:5601999] \"Glenwood Ave & Touhy Ave\" \"Glenwood Ave & Touhy Ave\" \"Clark St & Lake St\" \"Wood St & Chicago Ave\" ...\n",
      " $ start_station_id  : chr [1:5601999] \"525\" \"525\" \"KA1503000012\" \"637\" ...\n",
      " $ end_station_name  : chr [1:5601999] \"Sheridan Rd & Columbia Ave\" \"Bosworth Ave & Howard St\" \"State St & Randolph St\" \"Honore St & Division St\" ...\n",
      " $ end_station_id    : chr [1:5601999] \"660\" \"16806\" \"TA1305000029\" \"TA1305000034\" ...\n",
      " $ start_lat         : num [1:5601999] 42 42 41.9 41.9 41.8 ...\n",
      " $ start_lng         : num [1:5601999] -87.7 -87.7 -87.6 -87.7 -87.6 ...\n",
      " $ end_lat           : num [1:5601999] 42 42 41.9 41.9 41.8 ...\n",
      " $ end_lng           : num [1:5601999] -87.7 -87.7 -87.6 -87.7 -87.6 ...\n",
      " $ member_casual     : chr [1:5601999] \"member\" \"casual\" \"member\" \"member\" ...\n",
      " $ date              : Date[1:5601999], format: \"2021-02-12\" \"2021-02-14\" ...\n",
      " $ month             : chr [1:5601999] \"02\" \"02\" \"02\" \"02\" ...\n",
      " $ day               : chr [1:5601999] \"12\" \"14\" \"09\" \"02\" ...\n",
      " $ year              : chr [1:5601999] \"2021\" \"2021\" \"2021\" \"2021\" ...\n",
      " $ day_of_week       : chr [1:5601999] \"Friday\" \"Sunday\" \"Tuesday\" \"Tuesday\" ...\n",
      " $ ride_length       : 'difftime' num [1:5601999] 407 1171 532 265 ...\n",
      "  ..- attr(*, \"units\")= chr \"secs\"\n",
      " - attr(*, \"spec\")=\n",
      "  .. cols(\n",
      "  ..   ride_id = \u001b[31mcol_character()\u001b[39m,\n",
      "  ..   rideable_type = \u001b[31mcol_character()\u001b[39m,\n",
      "  ..   started_at = \u001b[34mcol_datetime(format = \"\")\u001b[39m,\n",
      "  ..   ended_at = \u001b[34mcol_datetime(format = \"\")\u001b[39m,\n",
      "  ..   start_station_name = \u001b[31mcol_character()\u001b[39m,\n",
      "  ..   start_station_id = \u001b[31mcol_character()\u001b[39m,\n",
      "  ..   end_station_name = \u001b[31mcol_character()\u001b[39m,\n",
      "  ..   end_station_id = \u001b[31mcol_character()\u001b[39m,\n",
      "  ..   start_lat = \u001b[32mcol_double()\u001b[39m,\n",
      "  ..   start_lng = \u001b[32mcol_double()\u001b[39m,\n",
      "  ..   end_lat = \u001b[32mcol_double()\u001b[39m,\n",
      "  ..   end_lng = \u001b[32mcol_double()\u001b[39m,\n",
      "  ..   member_casual = \u001b[31mcol_character()\u001b[39m\n",
      "  .. )\n",
      " - attr(*, \"problems\")=<externalptr> \n"
     ]
    }
   ],
   "source": [
    "str(trip_data) #to inspect the structure of the columns"
   ]
  },
  {
   "cell_type": "markdown",
   "id": "7fb3488b",
   "metadata": {
    "papermill": {
     "duration": 0.241164,
     "end_time": "2022-05-28T23:48:55.641078",
     "exception": false,
     "start_time": "2022-05-28T23:48:55.399914",
     "status": "completed"
    },
    "tags": []
   },
   "source": [
    "### Convert ride_length from Factor to Numeric in order to run calculations"
   ]
  },
  {
   "cell_type": "code",
   "execution_count": 33,
   "id": "0d98f95d",
   "metadata": {
    "execution": {
     "iopub.execute_input": "2022-05-28T23:48:56.134452Z",
     "iopub.status.busy": "2022-05-28T23:48:56.132993Z",
     "iopub.status.idle": "2022-05-28T23:49:03.574526Z",
     "shell.execute_reply": "2022-05-28T23:49:03.572823Z"
    },
    "papermill": {
     "duration": 7.688248,
     "end_time": "2022-05-28T23:49:03.574689",
     "exception": false,
     "start_time": "2022-05-28T23:48:55.886441",
     "status": "completed"
    },
    "tags": []
   },
   "outputs": [],
   "source": [
    "trip_data$ride_length <- as.numeric(as.character(trip_data$ride_length))"
   ]
  },
  {
   "cell_type": "code",
   "execution_count": 34,
   "id": "aaf7d5c5",
   "metadata": {
    "execution": {
     "iopub.execute_input": "2022-05-28T23:49:04.088229Z",
     "iopub.status.busy": "2022-05-28T23:49:04.086772Z",
     "iopub.status.idle": "2022-05-28T23:49:04.104387Z",
     "shell.execute_reply": "2022-05-28T23:49:04.102924Z"
    },
    "papermill": {
     "duration": 0.26581,
     "end_time": "2022-05-28T23:49:04.104564",
     "exception": false,
     "start_time": "2022-05-28T23:49:03.838754",
     "status": "completed"
    },
    "tags": []
   },
   "outputs": [
    {
     "data": {
      "text/html": [
       "TRUE"
      ],
      "text/latex": [
       "TRUE"
      ],
      "text/markdown": [
       "TRUE"
      ],
      "text/plain": [
       "[1] TRUE"
      ]
     },
     "metadata": {},
     "output_type": "display_data"
    }
   ],
   "source": [
    "is.numeric(trip_data$ride_length)"
   ]
  },
  {
   "cell_type": "markdown",
   "id": "3f6d773e",
   "metadata": {
    "papermill": {
     "duration": 0.243359,
     "end_time": "2022-05-28T23:49:04.592204",
     "exception": false,
     "start_time": "2022-05-28T23:49:04.348845",
     "status": "completed"
    },
    "tags": []
   },
   "source": [
    "### Add ride_distance calculation to trip_data"
   ]
  },
  {
   "cell_type": "code",
   "execution_count": 35,
   "id": "df265e2c",
   "metadata": {
    "execution": {
     "iopub.execute_input": "2022-05-28T23:49:05.087272Z",
     "iopub.status.busy": "2022-05-28T23:49:05.085708Z",
     "iopub.status.idle": "2022-05-28T23:49:05.296075Z",
     "shell.execute_reply": "2022-05-28T23:49:05.294576Z"
    },
    "papermill": {
     "duration": 0.462498,
     "end_time": "2022-05-28T23:49:05.296255",
     "exception": false,
     "start_time": "2022-05-28T23:49:04.833757",
     "status": "completed"
    },
    "tags": []
   },
   "outputs": [],
   "source": [
    "library(geosphere)"
   ]
  },
  {
   "cell_type": "code",
   "execution_count": 36,
   "id": "0bcaa26e",
   "metadata": {
    "execution": {
     "iopub.execute_input": "2022-05-28T23:49:05.793865Z",
     "iopub.status.busy": "2022-05-28T23:49:05.791400Z",
     "iopub.status.idle": "2022-05-28T23:49:14.469158Z",
     "shell.execute_reply": "2022-05-28T23:49:14.467333Z"
    },
    "papermill": {
     "duration": 8.929015,
     "end_time": "2022-05-28T23:49:14.469334",
     "exception": false,
     "start_time": "2022-05-28T23:49:05.540319",
     "status": "completed"
    },
    "tags": []
   },
   "outputs": [],
   "source": [
    "trip_data$ride_distance <- distGeo(matrix(c(trip_data$start_lng, trip_data$start_lat), ncol=2), matrix (c(trip_data$end_lng, trip_data$end_lat), ncol=2))"
   ]
  },
  {
   "cell_type": "code",
   "execution_count": 37,
   "id": "39365e18",
   "metadata": {
    "execution": {
     "iopub.execute_input": "2022-05-28T23:49:14.994453Z",
     "iopub.status.busy": "2022-05-28T23:49:14.992377Z",
     "iopub.status.idle": "2022-05-28T23:49:15.019345Z",
     "shell.execute_reply": "2022-05-28T23:49:15.017771Z"
    },
    "papermill": {
     "duration": 0.300655,
     "end_time": "2022-05-28T23:49:15.019522",
     "exception": false,
     "start_time": "2022-05-28T23:49:14.718867",
     "status": "completed"
    },
    "tags": []
   },
   "outputs": [],
   "source": [
    "trip_data$ride_distance <- trip_data$ride_distance/1000 #distance in km"
   ]
  },
  {
   "cell_type": "markdown",
   "id": "5f4aef9c",
   "metadata": {
    "papermill": {
     "duration": 0.243623,
     "end_time": "2022-05-28T23:49:15.514371",
     "exception": false,
     "start_time": "2022-05-28T23:49:15.270748",
     "status": "completed"
    },
    "tags": []
   },
   "source": [
    "### Remove \"bad\" data\n",
    "The data frame includes a few hundred entries when bikes where taken out of docks\n",
    "and checked for quality by Divvy where ride_length was negative or \"zero\""
   ]
  },
  {
   "cell_type": "code",
   "execution_count": 38,
   "id": "439dd5fc",
   "metadata": {
    "execution": {
     "iopub.execute_input": "2022-05-28T23:49:16.017289Z",
     "iopub.status.busy": "2022-05-28T23:49:16.015542Z",
     "iopub.status.idle": "2022-05-28T23:49:17.593859Z",
     "shell.execute_reply": "2022-05-28T23:49:17.592337Z"
    },
    "papermill": {
     "duration": 1.831175,
     "end_time": "2022-05-28T23:49:17.594021",
     "exception": false,
     "start_time": "2022-05-28T23:49:15.762846",
     "status": "completed"
    },
    "tags": []
   },
   "outputs": [],
   "source": [
    "trip_data_clean <- trip_data[!(trip_data$ride_length <= 0),]"
   ]
  },
  {
   "cell_type": "code",
   "execution_count": 39,
   "id": "6e3caaab",
   "metadata": {
    "execution": {
     "iopub.execute_input": "2022-05-28T23:49:18.091985Z",
     "iopub.status.busy": "2022-05-28T23:49:18.090047Z",
     "iopub.status.idle": "2022-05-28T23:49:18.123188Z",
     "shell.execute_reply": "2022-05-28T23:49:18.121493Z"
    },
    "papermill": {
     "duration": 0.28429,
     "end_time": "2022-05-28T23:49:18.123354",
     "exception": false,
     "start_time": "2022-05-28T23:49:17.839064",
     "status": "completed"
    },
    "tags": []
   },
   "outputs": [
    {
     "name": "stdout",
     "output_type": "stream",
     "text": [
      "Rows: 5,601,347\n",
      "Columns: 20\n",
      "$ ride_id            \u001b[3m\u001b[90m<chr>\u001b[39m\u001b[23m \"89E7AA6C29227EFF\", \"0FEFDE2603568365\", \"E6159D746B…\n",
      "$ rideable_type      \u001b[3m\u001b[90m<chr>\u001b[39m\u001b[23m \"classic_bike\", \"classic_bike\", \"electric_bike\", \"c…\n",
      "$ started_at         \u001b[3m\u001b[90m<dttm>\u001b[39m\u001b[23m 2021-02-12 16:14:56, 2021-02-14 17:52:38, 2021-02-…\n",
      "$ ended_at           \u001b[3m\u001b[90m<dttm>\u001b[39m\u001b[23m 2021-02-12 16:21:43, 2021-02-14 18:12:09, 2021-02-…\n",
      "$ start_station_name \u001b[3m\u001b[90m<chr>\u001b[39m\u001b[23m \"Glenwood Ave & Touhy Ave\", \"Glenwood Ave & Touhy A…\n",
      "$ start_station_id   \u001b[3m\u001b[90m<chr>\u001b[39m\u001b[23m \"525\", \"525\", \"KA1503000012\", \"637\", \"13216\", \"1800…\n",
      "$ end_station_name   \u001b[3m\u001b[90m<chr>\u001b[39m\u001b[23m \"Sheridan Rd & Columbia Ave\", \"Bosworth Ave & Howar…\n",
      "$ end_station_id     \u001b[3m\u001b[90m<chr>\u001b[39m\u001b[23m \"660\", \"16806\", \"TA1305000029\", \"TA1305000034\", \"TA…\n",
      "$ start_lat          \u001b[3m\u001b[90m<dbl>\u001b[39m\u001b[23m 42.01270, 42.01270, 41.88579, 41.89563, 41.83473, 4…\n",
      "$ start_lng          \u001b[3m\u001b[90m<dbl>\u001b[39m\u001b[23m -87.66606, -87.66606, -87.63110, -87.67207, -87.625…\n",
      "$ end_lat            \u001b[3m\u001b[90m<dbl>\u001b[39m\u001b[23m 42.00458, 42.01954, 41.88487, 41.90312, 41.83816, 4…\n",
      "$ end_lng            \u001b[3m\u001b[90m<dbl>\u001b[39m\u001b[23m -87.66141, -87.66956, -87.62750, -87.67394, -87.645…\n",
      "$ member_casual      \u001b[3m\u001b[90m<chr>\u001b[39m\u001b[23m \"member\", \"casual\", \"member\", \"member\", \"member\", \"…\n",
      "$ date               \u001b[3m\u001b[90m<date>\u001b[39m\u001b[23m 2021-02-12, 2021-02-14, 2021-02-09, 2021-02-02, 20…\n",
      "$ month              \u001b[3m\u001b[90m<chr>\u001b[39m\u001b[23m \"02\", \"02\", \"02\", \"02\", \"02\", \"02\", \"02\", \"02\", \"02…\n",
      "$ day                \u001b[3m\u001b[90m<chr>\u001b[39m\u001b[23m \"12\", \"14\", \"09\", \"02\", \"23\", \"24\", \"01\", \"11\", \"27…\n",
      "$ year               \u001b[3m\u001b[90m<chr>\u001b[39m\u001b[23m \"2021\", \"2021\", \"2021\", \"2021\", \"2021\", \"2021\", \"20…\n",
      "$ day_of_week        \u001b[3m\u001b[90m<chr>\u001b[39m\u001b[23m \"Friday\", \"Sunday\", \"Tuesday\", \"Tuesday\", \"Tuesday\"…\n",
      "$ ride_length        \u001b[3m\u001b[90m<dbl>\u001b[39m\u001b[23m 407, 1171, 532, 265, 914, 332, 51, 76, 1377, 1042, …\n",
      "$ ride_distance      \u001b[3m\u001b[90m<dbl>\u001b[39m\u001b[23m 0.9805928, 0.8129084, 0.3163359, 0.8456658, 1.64742…\n"
     ]
    }
   ],
   "source": [
    "glimpse(trip_data_clean) #gives column names and data in the column"
   ]
  },
  {
   "cell_type": "markdown",
   "id": "bc4d6ca6",
   "metadata": {
    "papermill": {
     "duration": 0.246043,
     "end_time": "2022-05-28T23:49:18.613803",
     "exception": false,
     "start_time": "2022-05-28T23:49:18.367760",
     "status": "completed"
    },
    "tags": []
   },
   "source": [
    "## ANALYZE\n",
    "All the required information are now in one place and ready for exploration.\n",
    "\n",
    "**Key tasks**\n",
    "\n",
    "1. Aggregate your data so it’s useful and accessible.\n",
    "1. Organize and format your data.\n",
    "1. Perform calculations.\n",
    "1. Identify trends and relationships.\n",
    "\n",
    "**Deliverable**\n",
    "\n",
    "1. A summary of the analysis.\n",
    "\n",
    "Following code chunks will be used for this phase."
   ]
  },
  {
   "cell_type": "code",
   "execution_count": 40,
   "id": "83677bf4",
   "metadata": {
    "execution": {
     "iopub.execute_input": "2022-05-28T23:49:19.120130Z",
     "iopub.status.busy": "2022-05-28T23:49:19.118530Z",
     "iopub.status.idle": "2022-05-28T23:49:19.166950Z",
     "shell.execute_reply": "2022-05-28T23:49:19.165735Z"
    },
    "papermill": {
     "duration": 0.302091,
     "end_time": "2022-05-28T23:49:19.167354",
     "exception": false,
     "start_time": "2022-05-28T23:49:18.865263",
     "status": "completed"
    },
    "tags": []
   },
   "outputs": [
    {
     "name": "stdout",
     "output_type": "stream",
     "text": [
      "tibble [5,601,347 × 20] (S3: tbl_df/tbl/data.frame)\n",
      " $ ride_id           : chr [1:5601347] \"89E7AA6C29227EFF\" \"0FEFDE2603568365\" \"E6159D746B2DBB91\" \"B32D3199F1C2E75B\" ...\n",
      " $ rideable_type     : chr [1:5601347] \"classic_bike\" \"classic_bike\" \"electric_bike\" \"classic_bike\" ...\n",
      " $ started_at        : POSIXct[1:5601347], format: \"2021-02-12 16:14:56\" \"2021-02-14 17:52:38\" ...\n",
      " $ ended_at          : POSIXct[1:5601347], format: \"2021-02-12 16:21:43\" \"2021-02-14 18:12:09\" ...\n",
      " $ start_station_name: chr [1:5601347] \"Glenwood Ave & Touhy Ave\" \"Glenwood Ave & Touhy Ave\" \"Clark St & Lake St\" \"Wood St & Chicago Ave\" ...\n",
      " $ start_station_id  : chr [1:5601347] \"525\" \"525\" \"KA1503000012\" \"637\" ...\n",
      " $ end_station_name  : chr [1:5601347] \"Sheridan Rd & Columbia Ave\" \"Bosworth Ave & Howard St\" \"State St & Randolph St\" \"Honore St & Division St\" ...\n",
      " $ end_station_id    : chr [1:5601347] \"660\" \"16806\" \"TA1305000029\" \"TA1305000034\" ...\n",
      " $ start_lat         : num [1:5601347] 42 42 41.9 41.9 41.8 ...\n",
      " $ start_lng         : num [1:5601347] -87.7 -87.7 -87.6 -87.7 -87.6 ...\n",
      " $ end_lat           : num [1:5601347] 42 42 41.9 41.9 41.8 ...\n",
      " $ end_lng           : num [1:5601347] -87.7 -87.7 -87.6 -87.7 -87.6 ...\n",
      " $ member_casual     : chr [1:5601347] \"member\" \"casual\" \"member\" \"member\" ...\n",
      " $ date              : Date[1:5601347], format: \"2021-02-12\" \"2021-02-14\" ...\n",
      " $ month             : chr [1:5601347] \"02\" \"02\" \"02\" \"02\" ...\n",
      " $ day               : chr [1:5601347] \"12\" \"14\" \"09\" \"02\" ...\n",
      " $ year              : chr [1:5601347] \"2021\" \"2021\" \"2021\" \"2021\" ...\n",
      " $ day_of_week       : chr [1:5601347] \"Friday\" \"Sunday\" \"Tuesday\" \"Tuesday\" ...\n",
      " $ ride_length       : num [1:5601347] 407 1171 532 265 914 ...\n",
      " $ ride_distance     : num [1:5601347] 0.981 0.813 0.316 0.846 1.647 ...\n"
     ]
    }
   ],
   "source": [
    "str(trip_data_clean) #first lets check the structure of the data frame"
   ]
  },
  {
   "cell_type": "code",
   "execution_count": 41,
   "id": "b5b7cef6",
   "metadata": {
    "execution": {
     "iopub.execute_input": "2022-05-28T23:49:19.671409Z",
     "iopub.status.busy": "2022-05-28T23:49:19.669788Z",
     "iopub.status.idle": "2022-05-28T23:49:24.561783Z",
     "shell.execute_reply": "2022-05-28T23:49:24.560420Z"
    },
    "papermill": {
     "duration": 5.14564,
     "end_time": "2022-05-28T23:49:24.561952",
     "exception": false,
     "start_time": "2022-05-28T23:49:19.416312",
     "status": "completed"
    },
    "tags": []
   },
   "outputs": [
    {
     "data": {
      "text/plain": [
       "   ride_id          rideable_type        started_at                 \n",
       " Length:5601347     Length:5601347     Min.   :2021-02-01 00:55:44  \n",
       " Class :character   Class :character   1st Qu.:2021-06-11 12:39:09  \n",
       " Mode  :character   Mode  :character   Median :2021-08-04 21:57:22  \n",
       "                                       Mean   :2021-08-04 20:28:56  \n",
       "                                       3rd Qu.:2021-09-28 16:38:17  \n",
       "                                       Max.   :2022-01-31 23:58:37  \n",
       "                                                                    \n",
       "    ended_at                   start_station_name start_station_id  \n",
       " Min.   :2021-02-01 01:22:48   Length:5601347     Length:5601347    \n",
       " 1st Qu.:2021-06-11 13:02:01   Class :character   Class :character  \n",
       " Median :2021-08-04 22:19:16   Mode  :character   Mode  :character  \n",
       " Mean   :2021-08-04 20:50:52                                        \n",
       " 3rd Qu.:2021-09-28 16:54:21                                        \n",
       " Max.   :2022-02-01 01:46:16                                        \n",
       "                                                                    \n",
       " end_station_name   end_station_id       start_lat       start_lng     \n",
       " Length:5601347     Length:5601347     Min.   :41.64   Min.   :-87.84  \n",
       " Class :character   Class :character   1st Qu.:41.88   1st Qu.:-87.66  \n",
       " Mode  :character   Mode  :character   Median :41.90   Median :-87.64  \n",
       "                                       Mean   :41.90   Mean   :-87.65  \n",
       "                                       3rd Qu.:41.93   3rd Qu.:-87.63  \n",
       "                                       Max.   :45.64   Max.   :-73.80  \n",
       "                                                                       \n",
       "    end_lat         end_lng       member_casual           date           \n",
       " Min.   :41.39   Min.   :-88.97   Length:5601347     Min.   :2021-02-01  \n",
       " 1st Qu.:41.88   1st Qu.:-87.66   Class :character   1st Qu.:2021-06-11  \n",
       " Median :41.90   Median :-87.64   Mode  :character   Median :2021-08-04  \n",
       " Mean   :41.90   Mean   :-87.65                      Mean   :2021-08-04  \n",
       " 3rd Qu.:41.93   3rd Qu.:-87.63                      3rd Qu.:2021-09-28  \n",
       " Max.   :42.17   Max.   :-87.49                      Max.   :2022-01-31  \n",
       " NA's   :4754    NA's   :4754                                            \n",
       "    month               day                year           day_of_week       \n",
       " Length:5601347     Length:5601347     Length:5601347     Length:5601347    \n",
       " Class :character   Class :character   Class :character   Class :character  \n",
       " Mode  :character   Mode  :character   Mode  :character   Mode  :character  \n",
       "                                                                            \n",
       "                                                                            \n",
       "                                                                            \n",
       "                                                                            \n",
       "  ride_length      ride_distance     \n",
       " Min.   :      1   Min.   :   0.000  \n",
       " 1st Qu.:    403   1st Qu.:   0.898  \n",
       " Median :    717   Median :   1.635  \n",
       " Mean   :   1316   Mean   :   2.184  \n",
       " 3rd Qu.:   1303   3rd Qu.:   2.876  \n",
       " Max.   :3356649   Max.   :1192.246  \n",
       "                   NA's   :4754      "
      ]
     },
     "metadata": {},
     "output_type": "display_data"
    }
   ],
   "source": [
    "summary(trip_data_clean) #to check the summarized details of the clean data frame"
   ]
  },
  {
   "cell_type": "markdown",
   "id": "cc52db16",
   "metadata": {
    "papermill": {
     "duration": 0.257169,
     "end_time": "2022-05-28T23:49:25.071197",
     "exception": false,
     "start_time": "2022-05-28T23:49:24.814028",
     "status": "completed"
    },
    "tags": []
   },
   "source": [
    "### Conduct descriptive analysis\n",
    "### Descriptive analysis on 'ride_length'\n",
    "\n",
    "*mean = straight average (total ride length / total rides)*\n",
    "\n",
    "*median = midpoint number of ride length*\n",
    "\n",
    "*max = longest ride*\n",
    "\n",
    "*min = shortest ride*\n"
   ]
  },
  {
   "cell_type": "code",
   "execution_count": 42,
   "id": "073d5859",
   "metadata": {
    "execution": {
     "iopub.execute_input": "2022-05-28T23:49:25.569203Z",
     "iopub.status.busy": "2022-05-28T23:49:25.567602Z",
     "iopub.status.idle": "2022-05-28T23:49:26.035265Z",
     "shell.execute_reply": "2022-05-28T23:49:26.033277Z"
    },
    "papermill": {
     "duration": 0.717693,
     "end_time": "2022-05-28T23:49:26.035441",
     "exception": false,
     "start_time": "2022-05-28T23:49:25.317748",
     "status": "completed"
    },
    "tags": []
   },
   "outputs": [
    {
     "data": {
      "text/html": [
       "<table class=\"dataframe\">\n",
       "<caption>A tibble: 2 × 5</caption>\n",
       "<thead>\n",
       "\t<tr><th scope=col>member_casual</th><th scope=col>average_ride_length</th><th scope=col>median_length</th><th scope=col>max_ride_length</th><th scope=col>min_ride_length</th></tr>\n",
       "\t<tr><th scope=col>&lt;chr&gt;</th><th scope=col>&lt;dbl&gt;</th><th scope=col>&lt;dbl&gt;</th><th scope=col>&lt;dbl&gt;</th><th scope=col>&lt;dbl&gt;</th></tr>\n",
       "</thead>\n",
       "<tbody>\n",
       "\t<tr><td>casual</td><td>1922.3506</td><td>957</td><td>3356649</td><td>1</td></tr>\n",
       "\t<tr><td>member</td><td> 816.4918</td><td>574</td><td>  93596</td><td>1</td></tr>\n",
       "</tbody>\n",
       "</table>\n"
      ],
      "text/latex": [
       "A tibble: 2 × 5\n",
       "\\begin{tabular}{lllll}\n",
       " member\\_casual & average\\_ride\\_length & median\\_length & max\\_ride\\_length & min\\_ride\\_length\\\\\n",
       " <chr> & <dbl> & <dbl> & <dbl> & <dbl>\\\\\n",
       "\\hline\n",
       "\t casual & 1922.3506 & 957 & 3356649 & 1\\\\\n",
       "\t member &  816.4918 & 574 &   93596 & 1\\\\\n",
       "\\end{tabular}\n"
      ],
      "text/markdown": [
       "\n",
       "A tibble: 2 × 5\n",
       "\n",
       "| member_casual &lt;chr&gt; | average_ride_length &lt;dbl&gt; | median_length &lt;dbl&gt; | max_ride_length &lt;dbl&gt; | min_ride_length &lt;dbl&gt; |\n",
       "|---|---|---|---|---|\n",
       "| casual | 1922.3506 | 957 | 3356649 | 1 |\n",
       "| member |  816.4918 | 574 |   93596 | 1 |\n",
       "\n"
      ],
      "text/plain": [
       "  member_casual average_ride_length median_length max_ride_length\n",
       "1 casual        1922.3506           957           3356649        \n",
       "2 member         816.4918           574             93596        \n",
       "  min_ride_length\n",
       "1 1              \n",
       "2 1              "
      ]
     },
     "metadata": {},
     "output_type": "display_data"
    }
   ],
   "source": [
    "trip_data_clean %>% \n",
    "group_by(member_casual) %>%\n",
    "  summarise(average_ride_length = mean(ride_length), median_length = median(ride_length), \n",
    "            max_ride_length = max(ride_length), min_ride_length = min(ride_length))"
   ]
  },
  {
   "cell_type": "markdown",
   "id": "9699e7ac",
   "metadata": {
    "papermill": {
     "duration": 0.250685,
     "end_time": "2022-05-28T23:49:26.536694",
     "exception": false,
     "start_time": "2022-05-28T23:49:26.286009",
     "status": "completed"
    },
    "tags": []
   },
   "source": [
    "### Let's visualize members and casuals by the total ride taken (ride count)"
   ]
  },
  {
   "cell_type": "code",
   "execution_count": 43,
   "id": "a37d414a",
   "metadata": {
    "execution": {
     "iopub.execute_input": "2022-05-28T23:49:27.045953Z",
     "iopub.status.busy": "2022-05-28T23:49:27.043919Z",
     "iopub.status.idle": "2022-05-28T23:49:27.622458Z",
     "shell.execute_reply": "2022-05-28T23:49:27.620703Z"
    },
    "papermill": {
     "duration": 0.834623,
     "end_time": "2022-05-28T23:49:27.622610",
     "exception": false,
     "start_time": "2022-05-28T23:49:26.787987",
     "status": "completed"
    },
    "tags": []
   },
   "outputs": [
    {
     "data": {
      "text/html": [
       "<table class=\"dataframe\">\n",
       "<caption>A tibble: 2 × 2</caption>\n",
       "<thead>\n",
       "\t<tr><th scope=col>member_casual</th><th scope=col>ride_count</th></tr>\n",
       "\t<tr><th scope=col>&lt;chr&gt;</th><th scope=col>&lt;int&gt;</th></tr>\n",
       "</thead>\n",
       "<tbody>\n",
       "\t<tr><td>casual</td><td>2529064</td></tr>\n",
       "\t<tr><td>member</td><td>3072283</td></tr>\n",
       "</tbody>\n",
       "</table>\n"
      ],
      "text/latex": [
       "A tibble: 2 × 2\n",
       "\\begin{tabular}{ll}\n",
       " member\\_casual & ride\\_count\\\\\n",
       " <chr> & <int>\\\\\n",
       "\\hline\n",
       "\t casual & 2529064\\\\\n",
       "\t member & 3072283\\\\\n",
       "\\end{tabular}\n"
      ],
      "text/markdown": [
       "\n",
       "A tibble: 2 × 2\n",
       "\n",
       "| member_casual &lt;chr&gt; | ride_count &lt;int&gt; |\n",
       "|---|---|\n",
       "| casual | 2529064 |\n",
       "| member | 3072283 |\n",
       "\n"
      ],
      "text/plain": [
       "  member_casual ride_count\n",
       "1 casual        2529064   \n",
       "2 member        3072283   "
      ]
     },
     "metadata": {},
     "output_type": "display_data"
    }
   ],
   "source": [
    "trip_data_clean %>% \n",
    "    group_by(member_casual) %>% \n",
    "    summarise(ride_count = length(ride_id))"
   ]
  },
  {
   "cell_type": "code",
   "execution_count": 44,
   "id": "ee2c8d22",
   "metadata": {
    "execution": {
     "iopub.execute_input": "2022-05-28T23:49:28.140151Z",
     "iopub.status.busy": "2022-05-28T23:49:28.137839Z",
     "iopub.status.idle": "2022-05-28T23:49:32.876877Z",
     "shell.execute_reply": "2022-05-28T23:49:32.875123Z"
    },
    "papermill": {
     "duration": 5.002524,
     "end_time": "2022-05-28T23:49:32.877076",
     "exception": false,
     "start_time": "2022-05-28T23:49:27.874552",
     "status": "completed"
    },
    "tags": []
   },
   "outputs": [
    {
     "data": {
      "image/png": "[encoded data removed]"
     },
     "metadata": {
      "image/png": {
       "height": 420,
       "width": 420
      }
     },
     "output_type": "display_data"
    }
   ],
   "source": [
    "ggplot(data=trip_data_clean) + geom_bar(mapping=aes(x=member_casual, fill=member_casual)) + labs(title=\"Members vs Casual distribution\")"
   ]
  },
  {
   "cell_type": "markdown",
   "id": "823cddb9",
   "metadata": {
    "papermill": {
     "duration": 0.254892,
     "end_time": "2022-05-28T23:49:33.390699",
     "exception": false,
     "start_time": "2022-05-28T23:49:33.135807",
     "status": "completed"
    },
    "tags": []
   },
   "source": [
    "* From the above graph, we can observe that there are more member riders compared to casual rides based on the ride count."
   ]
  },
  {
   "cell_type": "markdown",
   "id": "539c9cce",
   "metadata": {
    "papermill": {
     "duration": 0.253963,
     "end_time": "2022-05-28T23:49:33.899329",
     "exception": false,
     "start_time": "2022-05-28T23:49:33.645366",
     "status": "completed"
    },
    "tags": []
   },
   "source": [
    "### Let's see total rides and average ride time by each day for members vs casual riders"
   ]
  },
  {
   "cell_type": "code",
   "execution_count": 45,
   "id": "19bd8f37",
   "metadata": {
    "execution": {
     "iopub.execute_input": "2022-05-28T23:49:34.417838Z",
     "iopub.status.busy": "2022-05-28T23:49:34.415564Z",
     "iopub.status.idle": "2022-05-28T23:49:35.206693Z",
     "shell.execute_reply": "2022-05-28T23:49:35.204952Z"
    },
    "papermill": {
     "duration": 1.051504,
     "end_time": "2022-05-28T23:49:35.206851",
     "exception": false,
     "start_time": "2022-05-28T23:49:34.155347",
     "status": "completed"
    },
    "tags": []
   },
   "outputs": [
    {
     "data": {
      "text/html": [
       "<table class=\"dataframe\">\n",
       "<caption>A tibble: 14 × 4</caption>\n",
       "<thead>\n",
       "\t<tr><th scope=col>member_casual</th><th scope=col>day_of_week</th><th scope=col>number_of_rides</th><th scope=col>average_ride_length</th></tr>\n",
       "\t<tr><th scope=col>&lt;chr&gt;</th><th scope=col>&lt;ord&gt;</th><th scope=col>&lt;int&gt;</th><th scope=col>&lt;dbl&gt;</th></tr>\n",
       "</thead>\n",
       "<tbody>\n",
       "\t<tr><td>casual</td><td>Sunday   </td><td>480699</td><td>2253.7937</td></tr>\n",
       "\t<tr><td>casual</td><td>Monday   </td><td>286681</td><td>1915.8075</td></tr>\n",
       "\t<tr><td>casual</td><td>Tuesday  </td><td>274868</td><td>1676.3797</td></tr>\n",
       "\t<tr><td>casual</td><td>Wednesday</td><td>279205</td><td>1664.9461</td></tr>\n",
       "\t<tr><td>casual</td><td>Thursday </td><td>286233</td><td>1669.4531</td></tr>\n",
       "\t<tr><td>casual</td><td>Friday   </td><td>363656</td><td>1822.2205</td></tr>\n",
       "\t<tr><td>casual</td><td>Saturday </td><td>557722</td><td>2085.2094</td></tr>\n",
       "\t<tr><td>member</td><td>Sunday   </td><td>376207</td><td> 939.1910</td></tr>\n",
       "\t<tr><td>member</td><td>Monday   </td><td>418420</td><td> 791.5159</td></tr>\n",
       "\t<tr><td>member</td><td>Tuesday  </td><td>468659</td><td> 767.2091</td></tr>\n",
       "\t<tr><td>member</td><td>Wednesday</td><td>478695</td><td> 766.4144</td></tr>\n",
       "\t<tr><td>member</td><td>Thursday </td><td>453535</td><td> 765.2992</td></tr>\n",
       "\t<tr><td>member</td><td>Friday   </td><td>445093</td><td> 799.1359</td></tr>\n",
       "\t<tr><td>member</td><td>Saturday </td><td>431674</td><td> 914.4855</td></tr>\n",
       "</tbody>\n",
       "</table>\n"
      ],
      "text/latex": [
       "A tibble: 14 × 4\n",
       "\\begin{tabular}{llll}\n",
       " member\\_casual & day\\_of\\_week & number\\_of\\_rides & average\\_ride\\_length\\\\\n",
       " <chr> & <ord> & <int> & <dbl>\\\\\n",
       "\\hline\n",
       "\t casual & Sunday    & 480699 & 2253.7937\\\\\n",
       "\t casual & Monday    & 286681 & 1915.8075\\\\\n",
       "\t casual & Tuesday   & 274868 & 1676.3797\\\\\n",
       "\t casual & Wednesday & 279205 & 1664.9461\\\\\n",
       "\t casual & Thursday  & 286233 & 1669.4531\\\\\n",
       "\t casual & Friday    & 363656 & 1822.2205\\\\\n",
       "\t casual & Saturday  & 557722 & 2085.2094\\\\\n",
       "\t member & Sunday    & 376207 &  939.1910\\\\\n",
       "\t member & Monday    & 418420 &  791.5159\\\\\n",
       "\t member & Tuesday   & 468659 &  767.2091\\\\\n",
       "\t member & Wednesday & 478695 &  766.4144\\\\\n",
       "\t member & Thursday  & 453535 &  765.2992\\\\\n",
       "\t member & Friday    & 445093 &  799.1359\\\\\n",
       "\t member & Saturday  & 431674 &  914.4855\\\\\n",
       "\\end{tabular}\n"
      ],
      "text/markdown": [
       "\n",
       "A tibble: 14 × 4\n",
       "\n",
       "| member_casual &lt;chr&gt; | day_of_week &lt;ord&gt; | number_of_rides &lt;int&gt; | average_ride_length &lt;dbl&gt; |\n",
       "|---|---|---|---|\n",
       "| casual | Sunday    | 480699 | 2253.7937 |\n",
       "| casual | Monday    | 286681 | 1915.8075 |\n",
       "| casual | Tuesday   | 274868 | 1676.3797 |\n",
       "| casual | Wednesday | 279205 | 1664.9461 |\n",
       "| casual | Thursday  | 286233 | 1669.4531 |\n",
       "| casual | Friday    | 363656 | 1822.2205 |\n",
       "| casual | Saturday  | 557722 | 2085.2094 |\n",
       "| member | Sunday    | 376207 |  939.1910 |\n",
       "| member | Monday    | 418420 |  791.5159 |\n",
       "| member | Tuesday   | 468659 |  767.2091 |\n",
       "| member | Wednesday | 478695 |  766.4144 |\n",
       "| member | Thursday  | 453535 |  765.2992 |\n",
       "| member | Friday    | 445093 |  799.1359 |\n",
       "| member | Saturday  | 431674 |  914.4855 |\n",
       "\n"
      ],
      "text/plain": [
       "   member_casual day_of_week number_of_rides average_ride_length\n",
       "1  casual        Sunday      480699          2253.7937          \n",
       "2  casual        Monday      286681          1915.8075          \n",
       "3  casual        Tuesday     274868          1676.3797          \n",
       "4  casual        Wednesday   279205          1664.9461          \n",
       "5  casual        Thursday    286233          1669.4531          \n",
       "6  casual        Friday      363656          1822.2205          \n",
       "7  casual        Saturday    557722          2085.2094          \n",
       "8  member        Sunday      376207           939.1910          \n",
       "9  member        Monday      418420           791.5159          \n",
       "10 member        Tuesday     468659           767.2091          \n",
       "11 member        Wednesday   478695           766.4144          \n",
       "12 member        Thursday    453535           765.2992          \n",
       "13 member        Friday      445093           799.1359          \n",
       "14 member        Saturday    431674           914.4855          "
      ]
     },
     "metadata": {},
     "output_type": "display_data"
    }
   ],
   "source": [
    "# lets order the days of the week\n",
    "trip_data_clean$day_of_week <- ordered(trip_data_clean$day_of_week, \n",
    "                                    levels=c(\"Sunday\", \"Monday\", \"Tuesday\", \"Wednesday\", \"Thursday\", \"Friday\", \"Saturday\"))\n",
    "trip_data_clean %>% \n",
    "  group_by(member_casual, day_of_week) %>%  #groups by member_casual\n",
    "  summarise(number_of_rides = n() #calculates the number of rides and average duration \n",
    "  ,average_ride_length = mean(ride_length),.groups=\"drop\") %>% # calculates the average duration\n",
    "  arrange(member_casual, day_of_week) #sort\n",
    "\n"
   ]
  },
  {
   "cell_type": "markdown",
   "id": "ab88dde6",
   "metadata": {
    "papermill": {
     "duration": 0.262595,
     "end_time": "2022-05-28T23:49:35.725877",
     "exception": false,
     "start_time": "2022-05-28T23:49:35.463282",
     "status": "completed"
    },
    "tags": []
   },
   "source": [
    "### let's visualize the above table by days of the week and number of rides taken by member and casual riders."
   ]
  },
  {
   "cell_type": "code",
   "execution_count": 46,
   "id": "f909bee2",
   "metadata": {
    "execution": {
     "iopub.execute_input": "2022-05-28T23:49:36.257372Z",
     "iopub.status.busy": "2022-05-28T23:49:36.255974Z",
     "iopub.status.idle": "2022-05-28T23:49:36.842337Z",
     "shell.execute_reply": "2022-05-28T23:49:36.841629Z"
    },
    "papermill": {
     "duration": 0.84935,
     "end_time": "2022-05-28T23:49:36.842490",
     "exception": false,
     "start_time": "2022-05-28T23:49:35.993140",
     "status": "completed"
    },
    "tags": []
   },
   "outputs": [
    {
     "data": {
      "image/png": "[encoded data removed]"
     },
     "metadata": {
      "image/png": {
       "height": 420,
       "width": 420
      }
     },
     "output_type": "display_data"
    }
   ],
   "source": [
    "trip_data_clean %>%  \n",
    "  group_by(member_casual, day_of_week) %>% \n",
    "  summarise(number_of_rides = n(), .groups=\"drop\") %>% \n",
    "  arrange(member_casual, day_of_week)  %>% \n",
    "  ggplot(aes(x = day_of_week, y = number_of_rides, fill = member_casual)) +\n",
    "  labs(title =\"Total rides of Members and Casual riders Vs. Day of the week\") +\n",
    "  geom_col(width=0.5, position = position_dodge(width=0.5)) +\n",
    "  scale_y_continuous(labels = function(x) format(x, scientific = FALSE))"
   ]
  },
  {
   "cell_type": "markdown",
   "id": "1dac5376",
   "metadata": {
    "papermill": {
     "duration": 0.260544,
     "end_time": "2022-05-28T23:49:37.365911",
     "exception": false,
     "start_time": "2022-05-28T23:49:37.105367",
     "status": "completed"
    },
    "tags": []
   },
   "source": [
    "* From the above graph, it is observed that casual riders have the highest number of rides on the weekend(saturday and sunday) compared to the other days while members are quite consistent but they have the lowest number of rides on the weekend.\n",
    "\n",
    "### Let's visualize average ride by day of the week"
   ]
  },
  {
   "cell_type": "code",
   "execution_count": 47,
   "id": "7a95e10d",
   "metadata": {
    "execution": {
     "iopub.execute_input": "2022-05-28T23:49:37.898653Z",
     "iopub.status.busy": "2022-05-28T23:49:37.896480Z",
     "iopub.status.idle": "2022-05-28T23:49:38.478040Z",
     "shell.execute_reply": "2022-05-28T23:49:38.477423Z"
    },
    "papermill": {
     "duration": 0.850286,
     "end_time": "2022-05-28T23:49:38.478188",
     "exception": false,
     "start_time": "2022-05-28T23:49:37.627902",
     "status": "completed"
    },
    "tags": []
   },
   "outputs": [
    {
     "data": {
      "image/png": "[encoded data removed]"
     },
     "metadata": {
      "image/png": {
       "height": 420,
       "width": 420
      }
     },
     "output_type": "display_data"
    }
   ],
   "source": [
    "trip_data_clean %>%  \n",
    "  group_by(member_casual, day_of_week) %>% \n",
    "  summarise(average_ride_length = mean(ride_length), .groups=\"drop\") %>%\n",
    "  ggplot(aes(x = day_of_week, y = average_ride_length, fill = member_casual)) +\n",
    "  geom_col(width=0.5, position = position_dodge(width=0.5)) + \n",
    "  labs(title =\"Average ride time of Members and Casual riders Vs. Day of the week\")"
   ]
  },
  {
   "cell_type": "markdown",
   "id": "a035a666",
   "metadata": {
    "papermill": {
     "duration": 0.263763,
     "end_time": "2022-05-28T23:49:39.006159",
     "exception": false,
     "start_time": "2022-05-28T23:49:38.742396",
     "status": "completed"
    },
    "tags": []
   },
   "source": [
    "* From the above graph, we can observe that casual riders ride for a longer time during the week with the highest ride on the weekends while members drive at a consistent pace during the week with the highest rides on the weekend. "
   ]
  },
  {
   "cell_type": "markdown",
   "id": "453c9796",
   "metadata": {
    "papermill": {
     "duration": 0.263982,
     "end_time": "2022-05-28T23:49:39.533799",
     "exception": false,
     "start_time": "2022-05-28T23:49:39.269817",
     "status": "completed"
    },
    "tags": []
   },
   "source": [
    "### Let's visualize the total rides taken by members and casuals by month"
   ]
  },
  {
   "cell_type": "code",
   "execution_count": 48,
   "id": "b127ddfa",
   "metadata": {
    "execution": {
     "iopub.execute_input": "2022-05-28T23:49:40.071676Z",
     "iopub.status.busy": "2022-05-28T23:49:40.070014Z",
     "iopub.status.idle": "2022-05-28T23:49:40.602665Z",
     "shell.execute_reply": "2022-05-28T23:49:40.601697Z"
    },
    "papermill": {
     "duration": 0.801216,
     "end_time": "2022-05-28T23:49:40.602810",
     "exception": false,
     "start_time": "2022-05-28T23:49:39.801594",
     "status": "completed"
    },
    "tags": []
   },
   "outputs": [
    {
     "data": {
      "image/png": "[encoded data removed]"
     },
     "metadata": {
      "image/png": {
       "height": 420,
       "width": 420
      }
     },
     "output_type": "display_data"
    }
   ],
   "source": [
    "trip_data_clean %>%  \n",
    "  group_by(member_casual, month) %>% \n",
    "  summarise(number_of_rides = n(),.groups=\"drop\") %>% \n",
    "  arrange(member_casual, month)  %>% \n",
    "  ggplot(aes(x = month, y = number_of_rides, fill = member_casual)) +\n",
    "  labs(title =\"Total rides by Members and Casual riders by Month\") +\n",
    "  theme(axis.text.x = element_text(angle = 45)) +\n",
    "  geom_col(width=0.5, position = position_dodge(width=0.5)) +\n",
    "  scale_y_continuous(labels = function(x) format(x, scientific = FALSE))"
   ]
  },
  {
   "cell_type": "markdown",
   "id": "896b8dc5",
   "metadata": {
    "papermill": {
     "duration": 0.309246,
     "end_time": "2022-05-28T23:49:41.196323",
     "exception": false,
     "start_time": "2022-05-28T23:49:40.887077",
     "status": "completed"
    },
    "tags": []
   },
   "source": [
    "* From the above graph we can observe that members had higher number of rides all through the year except in June, July and August where casual riders took more rides."
   ]
  },
  {
   "cell_type": "markdown",
   "id": "3578e521",
   "metadata": {
    "papermill": {
     "duration": 0.310426,
     "end_time": "2022-05-28T23:49:41.817133",
     "exception": false,
     "start_time": "2022-05-28T23:49:41.506707",
     "status": "completed"
    },
    "tags": []
   },
   "source": [
    "### Let's compare Members and Casual riders depending on ride distance"
   ]
  },
  {
   "cell_type": "code",
   "execution_count": 49,
   "id": "1562b8c7",
   "metadata": {
    "execution": {
     "iopub.execute_input": "2022-05-28T23:49:42.448228Z",
     "iopub.status.busy": "2022-05-28T23:49:42.444345Z",
     "iopub.status.idle": "2022-05-28T23:49:49.192331Z",
     "shell.execute_reply": "2022-05-28T23:49:49.192974Z"
    },
    "papermill": {
     "duration": 7.062646,
     "end_time": "2022-05-28T23:49:49.193431",
     "exception": false,
     "start_time": "2022-05-28T23:49:42.130785",
     "status": "completed"
    },
    "tags": []
   },
   "outputs": [
    {
     "data": {
      "image/png": "[encoded data removed]"
     },
     "metadata": {
      "image/png": {
       "height": 420,
       "width": 420
      }
     },
     "output_type": "display_data"
    }
   ],
   "source": [
    "trip_data_clean %>% \n",
    "  group_by(member_casual) %>% drop_na() %>%\n",
    "  summarise(average_ride_distance = mean(ride_distance)) %>%\n",
    "  ggplot() + \n",
    "  geom_col(mapping= aes(x= member_casual,y= average_ride_distance,fill=member_casual), show.legend = FALSE)+\n",
    "  labs(title = \"Mean distance traveled by Members and Casual riders\")"
   ]
  },
  {
   "cell_type": "markdown",
   "id": "6f082ccd",
   "metadata": {
    "papermill": {
     "duration": 0.273521,
     "end_time": "2022-05-28T23:49:49.750059",
     "exception": false,
     "start_time": "2022-05-28T23:49:49.476538",
     "status": "completed"
    },
    "tags": []
   },
   "source": [
    "From the above graph, we can observe that casual riders went a longer distance compared to members by a few kilometer."
   ]
  },
  {
   "cell_type": "markdown",
   "id": "5fc83e95",
   "metadata": {
    "papermill": {
     "duration": 0.274438,
     "end_time": "2022-05-28T23:49:50.295938",
     "exception": false,
     "start_time": "2022-05-28T23:49:50.021500",
     "status": "completed"
    },
    "tags": []
   },
   "source": [
    "## Share\n",
    "\n",
    "This phase will be done by presentation but you can view my kaggle notebook [here](https://www.kaggle.com/pebblesowens/cyclistic-bikeshare-case-study-with-r)\n",
    "\n",
    "**Key tasks**\n",
    "\n",
    "1. Determine the best way to share your findings.\n",
    "2. Create effective data visualizations.\n",
    "3. Present your findings.\n",
    "4. Ensure your work is accessible.\n",
    "\n",
    "**Deliverable**\n",
    "\n",
    "1. Supporting visualizations and key findings"
   ]
  },
  {
   "cell_type": "markdown",
   "id": "7270df9a",
   "metadata": {
    "papermill": {
     "duration": 0.269107,
     "end_time": "2022-05-28T23:49:50.834725",
     "exception": false,
     "start_time": "2022-05-28T23:49:50.565618",
     "status": "completed"
    },
    "tags": []
   },
   "source": [
    "## ACT\n",
    "This phase will be carried out by the executive team, Director of Marketing (Lily Moreno) and the Marketing Analytics team based on my analysis.\n",
    "\n",
    "## Conclusion\n",
    "\n",
    "1. Members have more bikes compared to casual riders.\n",
    "2. We have more members riding in all months except the summer months (June,July and August) where we have more casual riders.\n",
    "3. Casual riders go farther in terms of distance.\n",
    "4. Casual riders travel for a longer time period.\n",
    "5. Members ride less on the weekend compared to casual riders.\n",
    "\n",
    "**Deliverable**\n",
    "* Your top three recommendations based on your analysis\n",
    "1. Have a slash sale or promo for casual riders so they can acquire more bikes and indulge them in the benefits of being a member.\n",
    "2. Encourage member riders to ride on weekends by giving them various coupons or extending their membership by a period of time.\n",
    "3. Host fun biking competitions with prizes at intervals for members on the weekends. Since there are lot of casual riders on weekends,this will also attract them to get a membership.\n",
    "\n",
    "**Resources**\n",
    "* [RDocumentation](https://www.rdocumentation.org/)\n",
    "* [RStudio](https://community.rstudio.com/) and [Kaggle](https://www.kaggle.com/discussion) community.\n",
    "\n",
    "**THANKS FOR READING, PLEASE PROVIDE YOUR VALUABLE FEEDBACK**"
   ]
  }
 ],
 "metadata": {
  "kernelspec": {
   "display_name": "R",
   "language": "R",
   "name": "ir"
  },
  "language_info": {
   "codemirror_mode": "r",
   "file_extension": ".r",
   "mimetype": "text/x-r-source",
   "name": "R",
   "pygments_lexer": "r",
   "version": "4.0.5"
  },
  "papermill": {
   "default_parameters": {},
   "duration": 125.014046,
   "end_time": "2022-05-28T23:49:51.422812",
   "environment_variables": {},
   "exception": null,
   "input_path": "__notebook__.ipynb",
   "output_path": "__notebook__.ipynb",
   "parameters": {},
   "start_time": "2022-05-28T23:47:46.408766",
   "version": "2.3.3"
  }
 },
 "nbformat": 4,
 "nbformat_minor": 5
}
